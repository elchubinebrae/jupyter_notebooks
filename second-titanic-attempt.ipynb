{
 "cells": [
  {
   "cell_type": "code",
   "execution_count": 1,
   "id": "adaptive-faith",
   "metadata": {
    "_cell_guid": "b1076dfc-b9ad-4769-8c92-a6c4dae69d19",
    "_uuid": "8f2839f25d086af736a60e9eeb907d3b93b6e0e5",
    "execution": {
     "iopub.execute_input": "2023-10-11T13:57:24.610292Z",
     "iopub.status.busy": "2023-10-11T13:57:24.609550Z",
     "iopub.status.idle": "2023-10-11T13:57:25.998514Z",
     "shell.execute_reply": "2023-10-11T13:57:25.997785Z",
     "shell.execute_reply.started": "2023-10-11T13:17:54.628339Z"
    },
    "papermill": {
     "duration": 1.413108,
     "end_time": "2023-10-11T13:57:25.998665",
     "exception": false,
     "start_time": "2023-10-11T13:57:24.585557",
     "status": "completed"
    },
    "tags": []
   },
   "outputs": [],
   "source": [
    "import pandas as pd\n",
    "import numpy as np\n",
    "import seaborn as sns\n",
    "import matplotlib.pyplot as plt\n",
    "import xgboost as xgb\n",
    "from sklearn.model_selection import train_test_split, GridSearchCV\n",
    "from sklearn import tree\n",
    "from sklearn.ensemble import BaggingClassifier, RandomForestClassifier, GradientBoostingClassifier, AdaBoostClassifier\n",
    "from sklearn.metrics import mean_squared_error as mse, r2_score, accuracy_score\n",
    "from scipy import stats\n",
    "sns.set()\n",
    "\n",
    "def check_model_accuracy(X_train, X_test, model):\n",
    "    y_train_pred = model.predict(X_train)\n",
    "    y_test_pred  = model.predict(X_test)\n",
    "    print(f\"Mean Squared Error       : {mse(y_test, y_test_pred)}\")\n",
    "    print(f\"R2 Score on training set : {r2_score(y_train, y_train_pred)}\")\n",
    "    print(f\"R2 Score on Test set     : {r2_score(y_test, y_test_pred)}\")\n",
    "    print(f\"{y_train_pred.shape}\")\n",
    "    print(f\"{y_test_pred.shape}\")\n",
    "    \n",
    "def show_me_the_features(columns, model):\n",
    "    fim = dict(zip(columns, model.feature_importances_))\n",
    "    fim = pd.DataFrame.from_dict(fim, orient='index', columns=['Importance']).sort_values(by=\"Importance\", ascending=False)\n",
    "    fim = fim[fim[\"Importance\"] > 0]\n",
    "    return fim\n",
    "\n",
    "def create_tree_image(model):\n",
    "    plt.figure(figsize=(12, 8))\n",
    "    tree.plot_tree(model, filled=True)"
   ]
  },
  {
   "cell_type": "code",
   "execution_count": 2,
   "id": "indoor-chapel",
   "metadata": {
    "execution": {
     "iopub.execute_input": "2023-10-11T13:57:26.029718Z",
     "iopub.status.busy": "2023-10-11T13:57:26.027911Z",
     "iopub.status.idle": "2023-10-11T13:57:28.260063Z",
     "shell.execute_reply": "2023-10-11T13:57:28.261192Z",
     "shell.execute_reply.started": "2023-10-11T13:55:21.520306Z"
    },
    "papermill": {
     "duration": 2.252496,
     "end_time": "2023-10-11T13:57:28.261436",
     "exception": false,
     "start_time": "2023-10-11T13:57:26.008940",
     "status": "completed"
    },
    "tags": []
   },
   "outputs": [
    {
     "name": "stdout",
     "output_type": "stream",
     "text": [
      "Fitting 4 folds for each of 1 candidates, totalling 4 fits\n"
     ]
    },
    {
     "data": {
      "text/plain": [
       "array([0, 0, 0, 0, 0, 0, 0, 1, 1, 0, 0, 1, 1, 1, 1, 0, 0, 0, 1, 0, 1, 0,\n",
       "       1, 1, 1, 0, 1, 0, 1, 0, 1, 1, 0, 0, 1, 0, 1, 1, 0, 0, 0, 1, 0, 1,\n",
       "       1, 0, 0, 0, 1, 0, 1, 0, 1, 1, 0, 0, 0, 0, 0, 1, 0, 1, 0, 1, 1, 1,\n",
       "       1, 1, 0, 1, 1, 0, 0, 0, 1, 1, 0, 1, 1, 1, 0, 1, 1, 0, 0, 0, 1, 1,\n",
       "       1, 1, 0, 0, 1, 0, 0, 0, 1, 0, 1, 0, 1, 1, 0, 0, 1, 0, 0, 0, 0, 1,\n",
       "       0, 1, 0, 1, 1, 0, 0, 0, 1, 1, 1, 0, 1, 0, 0, 0, 0, 0, 1, 0, 0, 0,\n",
       "       0, 0, 0, 0, 0, 1, 1, 0, 0, 1, 1, 1, 1, 0, 1, 0, 1, 1, 1, 0, 0, 0,\n",
       "       0, 0, 1, 1, 1, 0, 1, 0, 1, 0, 1, 0, 1, 0, 0, 1, 0, 0, 0, 0, 0, 1,\n",
       "       1, 1, 1, 1, 1, 1, 1, 0, 1, 1, 1, 0, 0, 1, 1, 1, 0, 0, 1, 0, 1, 1,\n",
       "       1, 1, 0, 0, 1, 1, 1, 0, 0, 1, 0, 0, 0, 0, 1, 1, 0, 1, 1, 1, 1, 0,\n",
       "       0, 0, 1, 0, 0, 0, 0, 1, 0, 1, 1, 1, 0, 0, 1, 0, 1, 0, 1, 1, 0, 1,\n",
       "       1, 0, 0, 1, 1, 1, 1, 0, 1, 0, 1, 0, 0, 0, 0, 0, 1, 0, 0, 0, 1, 0,\n",
       "       0, 0, 0, 0, 1, 0, 1, 0, 1, 0, 0, 1, 1, 1, 1, 1, 1, 0, 1, 0, 0, 0,\n",
       "       0, 1, 0, 0, 1, 0, 0, 1, 0, 0, 1, 0, 1, 0, 0, 0, 1, 0, 1, 1, 1, 1,\n",
       "       1, 0, 0, 0, 0, 0, 1, 1, 1, 1, 0, 1, 0, 0, 1, 1, 1, 0, 1, 1, 1, 1,\n",
       "       1, 0, 0, 0, 0, 1, 1, 0, 1, 0, 1, 0, 0, 1, 0, 1, 1, 0, 1, 1, 1, 1,\n",
       "       1, 1, 0, 1, 1, 0, 0, 0, 0, 0, 1, 0, 1, 0, 0, 0, 1, 0, 1, 1, 0, 1,\n",
       "       1, 1, 1, 1, 1, 0, 0, 0, 0, 0, 1, 1, 0, 1, 0, 0, 1, 1, 0, 1, 0, 1,\n",
       "       0, 1, 0, 0, 1, 1, 1, 1, 0, 0, 1, 1, 1, 0, 1, 1, 1, 0, 1, 0, 0, 0])"
      ]
     },
     "execution_count": 2,
     "metadata": {},
     "output_type": "execute_result"
    }
   ],
   "source": [
    "test = pd.read_csv(\"../input/titanic/test.csv\")\n",
    "train = pd.read_csv(\"../input/titanic/train.csv\")\n",
    "y_test = pd.read_csv(\"../input/titanic/gender_submission.csv\")\n",
    "\n",
    "\n",
    "\n",
    "\n",
    "#The next few lines of code may become obsolete as I work on making the data more \"Quality\"\n",
    "train = train.drop(['Ticket', 'Cabin', 'Name', 'SibSp', 'Parch'], axis=1)\n",
    "train.Age.fillna(train.Age.median(), inplace=True)\n",
    "test = pd.get_dummies(test, columns=['Sex', \"Embarked\"], drop_first=True)\n",
    "\n",
    "test = test.drop(['Ticket', 'Cabin','Name', 'SibSp', 'Parch'], axis=1)\n",
    "\n",
    "test.Age.fillna( test.Age.median(), inplace=True)\n",
    "test.Fare.fillna( test.Fare.median(), inplace=True)\n",
    "train = pd.get_dummies(train, columns=['Sex', \"Embarked\"], drop_first=True)\n",
    "\n",
    "\n",
    "# Resume data cleaning here after quality checks.\n",
    "X_train = train.drop('Survived', axis=1)\n",
    "y_train = train['Survived']\n",
    "\n",
    "passengers = test[\"PassengerId\"]\n",
    "\n",
    "clsf_params = {#'ccp_alpha': [0.6],\n",
    "               'max_depth': [3],\n",
    "               'max_features': [3],\n",
    "               #'max_leaf_nodes': [3],\n",
    "               #'min_impurity_decrease': [3],\n",
    "               #'min_samples_leaf': [3],\n",
    "               #'min_samples_split': [2],\n",
    "               'min_weight_fraction_leaf': [0.0],\n",
    "               'random_state': [42],\n",
    "               'splitter': [\"best\"]\n",
    "  }\n",
    "clsf = tree.DecisionTreeClassifier(max_depth =3, max_features=3)\n",
    "#ada = AdaBoostClassifier()\n",
    "#ada_params = {\n",
    "#    'algorithm': [\"mighty\"],\n",
    "#    'base_estimator': [clsf],\n",
    "#    'learning_rate': [0.1, 0.2],\n",
    "#    'n_estimators': [1000, 2000], \n",
    "#    'random_state': [42]\n",
    "#}\n",
    "\n",
    "# Initialize and train the model\n",
    "\n",
    "\n",
    "\n",
    "\n",
    "grid_search = GridSearchCV(estimator=clsf,\n",
    "                            param_grid=clsf_params,\n",
    "                            cv=4,  # Use n-fold cross-validation\n",
    "                            n_jobs=-1,  # Use all available CPU cores\n",
    "                            verbose=1)\n",
    "\n",
    "clsf.fit(X_train, y_train)\n",
    "grid_search.fit(X_train, y_train)\n",
    "\n",
    "# Get the best hyperparameters and evaluate the model on the test set\n",
    "best_params = grid_search.best_params_\n",
    "best_model = grid_search.best_estimator_\n",
    "y_pred = best_model.predict(test)\n",
    "#accuracy = accuracy_score(y_test.Survived, y_pred)\n",
    "#print(\"Best Hyperparameters:\", best_params)\n",
    "#print(\"Accuracy on Test Set:\", accuracy)\n",
    "\n",
    "y_pred\n",
    "\n"
   ]
  },
  {
   "cell_type": "code",
   "execution_count": 3,
   "id": "useful-cedar",
   "metadata": {
    "execution": {
     "iopub.execute_input": "2023-10-11T13:57:28.295787Z",
     "iopub.status.busy": "2023-10-11T13:57:28.294578Z",
     "iopub.status.idle": "2023-10-11T13:57:28.296525Z",
     "shell.execute_reply": "2023-10-11T13:57:28.296975Z",
     "shell.execute_reply.started": "2023-10-11T13:19:16.430113Z"
    },
    "papermill": {
     "duration": 0.017888,
     "end_time": "2023-10-11T13:57:28.297134",
     "exception": false,
     "start_time": "2023-10-11T13:57:28.279246",
     "status": "completed"
    },
    "tags": []
   },
   "outputs": [],
   "source": [
    "#xgb_pred = xgb_model.predict(test)\n",
    "#xgb_pred = xgb_pred.astype(int)\n",
    "\n",
    "#ada_pred = ada.predict(test)\n",
    "#ada_pred = ada_pred.astype(int)\n",
    "\n",
    "#clsf_pred = clsf.predict(test)\n",
    "#clsf_pred = clsf_pred.astype(int)\n",
    "\n",
    "#rdfc_pred = rdfc.predict(test)\n",
    "#rdfc_pred = rdfc_pred.astype(int)\n",
    "\n",
    "#bag_pred = bag.predict(test)\n",
    "#bag_pred = bag_pred.astype(int)\n",
    "\n",
    "#grad_boost_pred = grad_boost.predict(test)\n",
    "#grad_boost_pred = grad_boost_pred.astype(int)"
   ]
  },
  {
   "cell_type": "code",
   "execution_count": 4,
   "id": "military-tackle",
   "metadata": {
    "execution": {
     "iopub.execute_input": "2023-10-11T13:57:28.321580Z",
     "iopub.status.busy": "2023-10-11T13:57:28.320989Z",
     "iopub.status.idle": "2023-10-11T13:57:28.333293Z",
     "shell.execute_reply": "2023-10-11T13:57:28.332660Z",
     "shell.execute_reply.started": "2023-10-11T13:57:03.034143Z"
    },
    "papermill": {
     "duration": 0.025507,
     "end_time": "2023-10-11T13:57:28.333429",
     "exception": false,
     "start_time": "2023-10-11T13:57:28.307922",
     "status": "completed"
    },
    "tags": []
   },
   "outputs": [
    {
     "name": "stdout",
     "output_type": "stream",
     "text": [
      "Accuracy: 0.6483253588516746\n"
     ]
    }
   ],
   "source": [
    "\n",
    "\n",
    "\n",
    "# Any results you write to the current directory are saved as output.\n",
    "\n",
    "#all_predictions = np.array([ada_pred, clsf_pred, rdfc_pred, bag_pred, grad_boost_pred])\n",
    "\n",
    "# Calculate the average across columns for each row\n",
    "#average_predictions = np.mean(all_predictions, axis=0).astype(int)\n",
    "\n",
    "submission = pd.DataFrame({\n",
    "    'PassengerId': passengers,\n",
    "    'Survived': y_pred\n",
    "})\n",
    "\n",
    "accuracy = accuracy_score(y_test.Survived, y_pred)\n",
    "print(\"Accuracy:\", accuracy)\n",
    "\n",
    "submission.to_csv('Grid Search DT Classifier upgrade', index=False)"
   ]
  },
  {
   "cell_type": "code",
   "execution_count": 5,
   "id": "solved-bearing",
   "metadata": {
    "execution": {
     "iopub.execute_input": "2023-10-11T13:57:28.359717Z",
     "iopub.status.busy": "2023-10-11T13:57:28.359094Z",
     "iopub.status.idle": "2023-10-11T13:57:28.364523Z",
     "shell.execute_reply": "2023-10-11T13:57:28.365090Z",
     "shell.execute_reply.started": "2023-10-11T13:56:02.981040Z"
    },
    "papermill": {
     "duration": 0.020667,
     "end_time": "2023-10-11T13:57:28.365250",
     "exception": false,
     "start_time": "2023-10-11T13:57:28.344583",
     "status": "completed"
    },
    "tags": []
   },
   "outputs": [
    {
     "data": {
      "text/plain": [
       "0.6483253588516746"
      ]
     },
     "execution_count": 5,
     "metadata": {},
     "output_type": "execute_result"
    }
   ],
   "source": [
    "accuracy = accuracy_score(y_test.Survived, submission.Survived)\n",
    "accuracy"
   ]
  },
  {
   "cell_type": "code",
   "execution_count": 6,
   "id": "strange-group",
   "metadata": {
    "execution": {
     "iopub.execute_input": "2023-10-11T13:57:28.391140Z",
     "iopub.status.busy": "2023-10-11T13:57:28.390505Z",
     "iopub.status.idle": "2023-10-11T13:57:28.402237Z",
     "shell.execute_reply": "2023-10-11T13:57:28.401589Z",
     "shell.execute_reply.started": "2023-10-10T23:26:43.314747Z"
    },
    "papermill": {
     "duration": 0.025915,
     "end_time": "2023-10-11T13:57:28.402375",
     "exception": false,
     "start_time": "2023-10-11T13:57:28.376460",
     "status": "completed"
    },
    "tags": []
   },
   "outputs": [],
   "source": [
    "data = pd.read_csv(\"../input/titanic/train.csv\")"
   ]
  },
  {
   "cell_type": "code",
   "execution_count": 7,
   "id": "athletic-chicago",
   "metadata": {
    "execution": {
     "iopub.execute_input": "2023-10-11T13:57:28.431788Z",
     "iopub.status.busy": "2023-10-11T13:57:28.431158Z",
     "iopub.status.idle": "2023-10-11T13:57:28.433392Z",
     "shell.execute_reply": "2023-10-11T13:57:28.433846Z",
     "shell.execute_reply.started": "2023-10-10T23:26:51.808270Z"
    },
    "papermill": {
     "duration": 0.020418,
     "end_time": "2023-10-11T13:57:28.434015",
     "exception": false,
     "start_time": "2023-10-11T13:57:28.413597",
     "status": "completed"
    },
    "tags": []
   },
   "outputs": [],
   "source": [
    "data[\"Counter\"] = 1"
   ]
  },
  {
   "cell_type": "code",
   "execution_count": 8,
   "id": "integral-russia",
   "metadata": {
    "execution": {
     "iopub.execute_input": "2023-10-11T13:57:28.459808Z",
     "iopub.status.busy": "2023-10-11T13:57:28.459195Z",
     "iopub.status.idle": "2023-10-11T13:57:28.467274Z",
     "shell.execute_reply": "2023-10-11T13:57:28.466699Z",
     "shell.execute_reply.started": "2023-10-10T23:35:27.785783Z"
    },
    "papermill": {
     "duration": 0.022231,
     "end_time": "2023-10-11T13:57:28.467411",
     "exception": false,
     "start_time": "2023-10-11T13:57:28.445180",
     "status": "completed"
    },
    "tags": []
   },
   "outputs": [],
   "source": [
    "z_scores = stats.zscore(data['Fare'])\n",
    "\n",
    "# Define a threshold for identifying outliers (e.g., z-score greater than 3)\n",
    "threshold = 4\n",
    "\n",
    "# Identify and remove outliers\n",
    "outliers = data[abs(z_scores) > threshold]\n",
    "df_no_outliers = data[abs(z_scores) <= threshold]"
   ]
  },
  {
   "cell_type": "code",
   "execution_count": 9,
   "id": "awful-bracket",
   "metadata": {
    "execution": {
     "iopub.execute_input": "2023-10-11T13:57:28.494546Z",
     "iopub.status.busy": "2023-10-11T13:57:28.493614Z",
     "iopub.status.idle": "2023-10-11T13:57:28.499925Z",
     "shell.execute_reply": "2023-10-11T13:57:28.500426Z",
     "shell.execute_reply.started": "2023-10-10T23:37:09.618621Z"
    },
    "papermill": {
     "duration": 0.021252,
     "end_time": "2023-10-11T13:57:28.500593",
     "exception": false,
     "start_time": "2023-10-11T13:57:28.479341",
     "status": "completed"
    },
    "tags": []
   },
   "outputs": [
    {
     "data": {
      "text/plain": [
       "28.505875113636364"
      ]
     },
     "execution_count": 9,
     "metadata": {},
     "output_type": "execute_result"
    }
   ],
   "source": [
    "df_no_outliers.Fare.mean()"
   ]
  },
  {
   "cell_type": "code",
   "execution_count": 10,
   "id": "practical-artist",
   "metadata": {
    "execution": {
     "iopub.execute_input": "2023-10-11T13:57:28.526697Z",
     "iopub.status.busy": "2023-10-11T13:57:28.525789Z",
     "iopub.status.idle": "2023-10-11T13:57:28.551225Z",
     "shell.execute_reply": "2023-10-11T13:57:28.551615Z",
     "shell.execute_reply.started": "2023-10-10T23:38:11.414042Z"
    },
    "papermill": {
     "duration": 0.039841,
     "end_time": "2023-10-11T13:57:28.551799",
     "exception": false,
     "start_time": "2023-10-11T13:57:28.511958",
     "status": "completed"
    },
    "tags": []
   },
   "outputs": [
    {
     "data": {
      "text/html": [
       "<div>\n",
       "<style scoped>\n",
       "    .dataframe tbody tr th:only-of-type {\n",
       "        vertical-align: middle;\n",
       "    }\n",
       "\n",
       "    .dataframe tbody tr th {\n",
       "        vertical-align: top;\n",
       "    }\n",
       "\n",
       "    .dataframe thead th {\n",
       "        text-align: right;\n",
       "    }\n",
       "</style>\n",
       "<table border=\"1\" class=\"dataframe\">\n",
       "  <thead>\n",
       "    <tr style=\"text-align: right;\">\n",
       "      <th></th>\n",
       "      <th>PassengerId</th>\n",
       "      <th>Survived</th>\n",
       "      <th>Pclass</th>\n",
       "      <th>Name</th>\n",
       "      <th>Sex</th>\n",
       "      <th>Age</th>\n",
       "      <th>SibSp</th>\n",
       "      <th>Parch</th>\n",
       "      <th>Ticket</th>\n",
       "      <th>Fare</th>\n",
       "      <th>Cabin</th>\n",
       "      <th>Embarked</th>\n",
       "      <th>Counter</th>\n",
       "    </tr>\n",
       "  </thead>\n",
       "  <tbody>\n",
       "    <tr>\n",
       "      <th>258</th>\n",
       "      <td>259</td>\n",
       "      <td>1</td>\n",
       "      <td>1</td>\n",
       "      <td>Ward, Miss. Anna</td>\n",
       "      <td>female</td>\n",
       "      <td>35.0</td>\n",
       "      <td>0</td>\n",
       "      <td>0</td>\n",
       "      <td>PC 17755</td>\n",
       "      <td>512.3292</td>\n",
       "      <td>NaN</td>\n",
       "      <td>C</td>\n",
       "      <td>1</td>\n",
       "    </tr>\n",
       "    <tr>\n",
       "      <th>679</th>\n",
       "      <td>680</td>\n",
       "      <td>1</td>\n",
       "      <td>1</td>\n",
       "      <td>Cardeza, Mr. Thomas Drake Martinez</td>\n",
       "      <td>male</td>\n",
       "      <td>36.0</td>\n",
       "      <td>0</td>\n",
       "      <td>1</td>\n",
       "      <td>PC 17755</td>\n",
       "      <td>512.3292</td>\n",
       "      <td>B51 B53 B55</td>\n",
       "      <td>C</td>\n",
       "      <td>1</td>\n",
       "    </tr>\n",
       "    <tr>\n",
       "      <th>737</th>\n",
       "      <td>738</td>\n",
       "      <td>1</td>\n",
       "      <td>1</td>\n",
       "      <td>Lesurer, Mr. Gustave J</td>\n",
       "      <td>male</td>\n",
       "      <td>35.0</td>\n",
       "      <td>0</td>\n",
       "      <td>0</td>\n",
       "      <td>PC 17755</td>\n",
       "      <td>512.3292</td>\n",
       "      <td>B101</td>\n",
       "      <td>C</td>\n",
       "      <td>1</td>\n",
       "    </tr>\n",
       "    <tr>\n",
       "      <th>27</th>\n",
       "      <td>28</td>\n",
       "      <td>0</td>\n",
       "      <td>1</td>\n",
       "      <td>Fortune, Mr. Charles Alexander</td>\n",
       "      <td>male</td>\n",
       "      <td>19.0</td>\n",
       "      <td>3</td>\n",
       "      <td>2</td>\n",
       "      <td>19950</td>\n",
       "      <td>263.0000</td>\n",
       "      <td>C23 C25 C27</td>\n",
       "      <td>S</td>\n",
       "      <td>1</td>\n",
       "    </tr>\n",
       "    <tr>\n",
       "      <th>88</th>\n",
       "      <td>89</td>\n",
       "      <td>1</td>\n",
       "      <td>1</td>\n",
       "      <td>Fortune, Miss. Mabel Helen</td>\n",
       "      <td>female</td>\n",
       "      <td>23.0</td>\n",
       "      <td>3</td>\n",
       "      <td>2</td>\n",
       "      <td>19950</td>\n",
       "      <td>263.0000</td>\n",
       "      <td>C23 C25 C27</td>\n",
       "      <td>S</td>\n",
       "      <td>1</td>\n",
       "    </tr>\n",
       "    <tr>\n",
       "      <th>341</th>\n",
       "      <td>342</td>\n",
       "      <td>1</td>\n",
       "      <td>1</td>\n",
       "      <td>Fortune, Miss. Alice Elizabeth</td>\n",
       "      <td>female</td>\n",
       "      <td>24.0</td>\n",
       "      <td>3</td>\n",
       "      <td>2</td>\n",
       "      <td>19950</td>\n",
       "      <td>263.0000</td>\n",
       "      <td>C23 C25 C27</td>\n",
       "      <td>S</td>\n",
       "      <td>1</td>\n",
       "    </tr>\n",
       "    <tr>\n",
       "      <th>438</th>\n",
       "      <td>439</td>\n",
       "      <td>0</td>\n",
       "      <td>1</td>\n",
       "      <td>Fortune, Mr. Mark</td>\n",
       "      <td>male</td>\n",
       "      <td>64.0</td>\n",
       "      <td>1</td>\n",
       "      <td>4</td>\n",
       "      <td>19950</td>\n",
       "      <td>263.0000</td>\n",
       "      <td>C23 C25 C27</td>\n",
       "      <td>S</td>\n",
       "      <td>1</td>\n",
       "    </tr>\n",
       "    <tr>\n",
       "      <th>311</th>\n",
       "      <td>312</td>\n",
       "      <td>1</td>\n",
       "      <td>1</td>\n",
       "      <td>Ryerson, Miss. Emily Borie</td>\n",
       "      <td>female</td>\n",
       "      <td>18.0</td>\n",
       "      <td>2</td>\n",
       "      <td>2</td>\n",
       "      <td>PC 17608</td>\n",
       "      <td>262.3750</td>\n",
       "      <td>B57 B59 B63 B66</td>\n",
       "      <td>C</td>\n",
       "      <td>1</td>\n",
       "    </tr>\n",
       "    <tr>\n",
       "      <th>742</th>\n",
       "      <td>743</td>\n",
       "      <td>1</td>\n",
       "      <td>1</td>\n",
       "      <td>Ryerson, Miss. Susan Parker \"Suzette\"</td>\n",
       "      <td>female</td>\n",
       "      <td>21.0</td>\n",
       "      <td>2</td>\n",
       "      <td>2</td>\n",
       "      <td>PC 17608</td>\n",
       "      <td>262.3750</td>\n",
       "      <td>B57 B59 B63 B66</td>\n",
       "      <td>C</td>\n",
       "      <td>1</td>\n",
       "    </tr>\n",
       "    <tr>\n",
       "      <th>118</th>\n",
       "      <td>119</td>\n",
       "      <td>0</td>\n",
       "      <td>1</td>\n",
       "      <td>Baxter, Mr. Quigg Edmond</td>\n",
       "      <td>male</td>\n",
       "      <td>24.0</td>\n",
       "      <td>0</td>\n",
       "      <td>1</td>\n",
       "      <td>PC 17558</td>\n",
       "      <td>247.5208</td>\n",
       "      <td>B58 B60</td>\n",
       "      <td>C</td>\n",
       "      <td>1</td>\n",
       "    </tr>\n",
       "    <tr>\n",
       "      <th>299</th>\n",
       "      <td>300</td>\n",
       "      <td>1</td>\n",
       "      <td>1</td>\n",
       "      <td>Baxter, Mrs. James (Helene DeLaudeniere Chaput)</td>\n",
       "      <td>female</td>\n",
       "      <td>50.0</td>\n",
       "      <td>0</td>\n",
       "      <td>1</td>\n",
       "      <td>PC 17558</td>\n",
       "      <td>247.5208</td>\n",
       "      <td>B58 B60</td>\n",
       "      <td>C</td>\n",
       "      <td>1</td>\n",
       "    </tr>\n",
       "  </tbody>\n",
       "</table>\n",
       "</div>"
      ],
      "text/plain": [
       "     PassengerId  Survived  Pclass  \\\n",
       "258          259         1       1   \n",
       "679          680         1       1   \n",
       "737          738         1       1   \n",
       "27            28         0       1   \n",
       "88            89         1       1   \n",
       "341          342         1       1   \n",
       "438          439         0       1   \n",
       "311          312         1       1   \n",
       "742          743         1       1   \n",
       "118          119         0       1   \n",
       "299          300         1       1   \n",
       "\n",
       "                                                Name     Sex   Age  SibSp  \\\n",
       "258                                 Ward, Miss. Anna  female  35.0      0   \n",
       "679               Cardeza, Mr. Thomas Drake Martinez    male  36.0      0   \n",
       "737                           Lesurer, Mr. Gustave J    male  35.0      0   \n",
       "27                    Fortune, Mr. Charles Alexander    male  19.0      3   \n",
       "88                        Fortune, Miss. Mabel Helen  female  23.0      3   \n",
       "341                   Fortune, Miss. Alice Elizabeth  female  24.0      3   \n",
       "438                                Fortune, Mr. Mark    male  64.0      1   \n",
       "311                       Ryerson, Miss. Emily Borie  female  18.0      2   \n",
       "742            Ryerson, Miss. Susan Parker \"Suzette\"  female  21.0      2   \n",
       "118                         Baxter, Mr. Quigg Edmond    male  24.0      0   \n",
       "299  Baxter, Mrs. James (Helene DeLaudeniere Chaput)  female  50.0      0   \n",
       "\n",
       "     Parch    Ticket      Fare            Cabin Embarked  Counter  \n",
       "258      0  PC 17755  512.3292              NaN        C        1  \n",
       "679      1  PC 17755  512.3292      B51 B53 B55        C        1  \n",
       "737      0  PC 17755  512.3292             B101        C        1  \n",
       "27       2     19950  263.0000      C23 C25 C27        S        1  \n",
       "88       2     19950  263.0000      C23 C25 C27        S        1  \n",
       "341      2     19950  263.0000      C23 C25 C27        S        1  \n",
       "438      4     19950  263.0000      C23 C25 C27        S        1  \n",
       "311      2  PC 17608  262.3750  B57 B59 B63 B66        C        1  \n",
       "742      2  PC 17608  262.3750  B57 B59 B63 B66        C        1  \n",
       "118      1  PC 17558  247.5208          B58 B60        C        1  \n",
       "299      1  PC 17558  247.5208          B58 B60        C        1  "
      ]
     },
     "execution_count": 10,
     "metadata": {},
     "output_type": "execute_result"
    }
   ],
   "source": [
    "outliers.sort_values(by=\"Fare\", ascending=False)"
   ]
  },
  {
   "cell_type": "code",
   "execution_count": 11,
   "id": "furnished-broad",
   "metadata": {
    "execution": {
     "iopub.execute_input": "2023-10-11T13:57:28.578559Z",
     "iopub.status.busy": "2023-10-11T13:57:28.577999Z",
     "iopub.status.idle": "2023-10-11T13:57:28.597974Z",
     "shell.execute_reply": "2023-10-11T13:57:28.598402Z",
     "shell.execute_reply.started": "2023-10-10T23:26:58.390843Z"
    },
    "papermill": {
     "duration": 0.03483,
     "end_time": "2023-10-11T13:57:28.598572",
     "exception": false,
     "start_time": "2023-10-11T13:57:28.563742",
     "status": "completed"
    },
    "tags": []
   },
   "outputs": [
    {
     "data": {
      "text/html": [
       "<div>\n",
       "<style scoped>\n",
       "    .dataframe tbody tr th:only-of-type {\n",
       "        vertical-align: middle;\n",
       "    }\n",
       "\n",
       "    .dataframe tbody tr th {\n",
       "        vertical-align: top;\n",
       "    }\n",
       "\n",
       "    .dataframe thead th {\n",
       "        text-align: right;\n",
       "    }\n",
       "</style>\n",
       "<table border=\"1\" class=\"dataframe\">\n",
       "  <thead>\n",
       "    <tr style=\"text-align: right;\">\n",
       "      <th></th>\n",
       "      <th>Sex</th>\n",
       "      <th>Pclass</th>\n",
       "      <th>PassengerId</th>\n",
       "      <th>Survived</th>\n",
       "      <th>Age</th>\n",
       "      <th>SibSp</th>\n",
       "      <th>Parch</th>\n",
       "      <th>Fare</th>\n",
       "      <th>Counter</th>\n",
       "    </tr>\n",
       "  </thead>\n",
       "  <tbody>\n",
       "    <tr>\n",
       "      <th>0</th>\n",
       "      <td>female</td>\n",
       "      <td>1</td>\n",
       "      <td>44106</td>\n",
       "      <td>91</td>\n",
       "      <td>2942.00</td>\n",
       "      <td>52</td>\n",
       "      <td>43</td>\n",
       "      <td>9975.8250</td>\n",
       "      <td>94</td>\n",
       "    </tr>\n",
       "    <tr>\n",
       "      <th>1</th>\n",
       "      <td>female</td>\n",
       "      <td>2</td>\n",
       "      <td>33676</td>\n",
       "      <td>70</td>\n",
       "      <td>2125.50</td>\n",
       "      <td>37</td>\n",
       "      <td>46</td>\n",
       "      <td>1669.7292</td>\n",
       "      <td>76</td>\n",
       "    </tr>\n",
       "    <tr>\n",
       "      <th>2</th>\n",
       "      <td>female</td>\n",
       "      <td>3</td>\n",
       "      <td>57561</td>\n",
       "      <td>72</td>\n",
       "      <td>2218.50</td>\n",
       "      <td>129</td>\n",
       "      <td>115</td>\n",
       "      <td>2321.1086</td>\n",
       "      <td>144</td>\n",
       "    </tr>\n",
       "    <tr>\n",
       "      <th>3</th>\n",
       "      <td>male</td>\n",
       "      <td>1</td>\n",
       "      <td>55599</td>\n",
       "      <td>45</td>\n",
       "      <td>4169.42</td>\n",
       "      <td>38</td>\n",
       "      <td>34</td>\n",
       "      <td>8201.5875</td>\n",
       "      <td>122</td>\n",
       "    </tr>\n",
       "    <tr>\n",
       "      <th>4</th>\n",
       "      <td>male</td>\n",
       "      <td>2</td>\n",
       "      <td>48380</td>\n",
       "      <td>17</td>\n",
       "      <td>3043.33</td>\n",
       "      <td>37</td>\n",
       "      <td>24</td>\n",
       "      <td>2132.1125</td>\n",
       "      <td>108</td>\n",
       "    </tr>\n",
       "    <tr>\n",
       "      <th>5</th>\n",
       "      <td>male</td>\n",
       "      <td>3</td>\n",
       "      <td>158064</td>\n",
       "      <td>47</td>\n",
       "      <td>6706.42</td>\n",
       "      <td>173</td>\n",
       "      <td>78</td>\n",
       "      <td>4393.5865</td>\n",
       "      <td>347</td>\n",
       "    </tr>\n",
       "  </tbody>\n",
       "</table>\n",
       "</div>"
      ],
      "text/plain": [
       "      Sex  Pclass  PassengerId  Survived      Age  SibSp  Parch       Fare  \\\n",
       "0  female       1        44106        91  2942.00     52     43  9975.8250   \n",
       "1  female       2        33676        70  2125.50     37     46  1669.7292   \n",
       "2  female       3        57561        72  2218.50    129    115  2321.1086   \n",
       "3    male       1        55599        45  4169.42     38     34  8201.5875   \n",
       "4    male       2        48380        17  3043.33     37     24  2132.1125   \n",
       "5    male       3       158064        47  6706.42    173     78  4393.5865   \n",
       "\n",
       "   Counter  \n",
       "0       94  \n",
       "1       76  \n",
       "2      144  \n",
       "3      122  \n",
       "4      108  \n",
       "5      347  "
      ]
     },
     "execution_count": 11,
     "metadata": {},
     "output_type": "execute_result"
    }
   ],
   "source": [
    "groop = data.groupby(by=[\"Sex\", \"Pclass\"]).sum().reset_index(drop=False)\n",
    "groop"
   ]
  },
  {
   "cell_type": "code",
   "execution_count": 12,
   "id": "alike-italic",
   "metadata": {
    "execution": {
     "iopub.execute_input": "2023-10-11T13:57:28.625786Z",
     "iopub.status.busy": "2023-10-11T13:57:28.625156Z",
     "iopub.status.idle": "2023-10-11T13:57:28.659437Z",
     "shell.execute_reply": "2023-10-11T13:57:28.659949Z",
     "shell.execute_reply.started": "2023-10-10T23:33:22.030350Z"
    },
    "papermill": {
     "duration": 0.049297,
     "end_time": "2023-10-11T13:57:28.660117",
     "exception": false,
     "start_time": "2023-10-11T13:57:28.610820",
     "status": "completed"
    },
    "tags": []
   },
   "outputs": [
    {
     "data": {
      "text/html": [
       "<div>\n",
       "<style scoped>\n",
       "    .dataframe tbody tr th:only-of-type {\n",
       "        vertical-align: middle;\n",
       "    }\n",
       "\n",
       "    .dataframe tbody tr th {\n",
       "        vertical-align: top;\n",
       "    }\n",
       "\n",
       "    .dataframe thead th {\n",
       "        text-align: right;\n",
       "    }\n",
       "</style>\n",
       "<table border=\"1\" class=\"dataframe\">\n",
       "  <thead>\n",
       "    <tr style=\"text-align: right;\">\n",
       "      <th></th>\n",
       "      <th>Sex</th>\n",
       "      <th>Pclass</th>\n",
       "      <th>PassengerId</th>\n",
       "      <th>Survived</th>\n",
       "      <th>Age</th>\n",
       "      <th>SibSp</th>\n",
       "      <th>Parch</th>\n",
       "      <th>Fare</th>\n",
       "      <th>Counter</th>\n",
       "      <th>Average_Fare</th>\n",
       "      <th>Average_Age</th>\n",
       "      <th>Died</th>\n",
       "    </tr>\n",
       "  </thead>\n",
       "  <tbody>\n",
       "    <tr>\n",
       "      <th>0</th>\n",
       "      <td>female</td>\n",
       "      <td>1</td>\n",
       "      <td>44106</td>\n",
       "      <td>91</td>\n",
       "      <td>2942.00</td>\n",
       "      <td>52</td>\n",
       "      <td>43</td>\n",
       "      <td>9975.8250</td>\n",
       "      <td>94</td>\n",
       "      <td>106.125798</td>\n",
       "      <td>32.329670</td>\n",
       "      <td>3</td>\n",
       "    </tr>\n",
       "    <tr>\n",
       "      <th>1</th>\n",
       "      <td>female</td>\n",
       "      <td>2</td>\n",
       "      <td>33676</td>\n",
       "      <td>70</td>\n",
       "      <td>2125.50</td>\n",
       "      <td>37</td>\n",
       "      <td>46</td>\n",
       "      <td>1669.7292</td>\n",
       "      <td>76</td>\n",
       "      <td>21.970121</td>\n",
       "      <td>30.364286</td>\n",
       "      <td>6</td>\n",
       "    </tr>\n",
       "    <tr>\n",
       "      <th>2</th>\n",
       "      <td>female</td>\n",
       "      <td>3</td>\n",
       "      <td>57561</td>\n",
       "      <td>72</td>\n",
       "      <td>2218.50</td>\n",
       "      <td>129</td>\n",
       "      <td>115</td>\n",
       "      <td>2321.1086</td>\n",
       "      <td>144</td>\n",
       "      <td>16.118810</td>\n",
       "      <td>30.812500</td>\n",
       "      <td>72</td>\n",
       "    </tr>\n",
       "    <tr>\n",
       "      <th>3</th>\n",
       "      <td>male</td>\n",
       "      <td>1</td>\n",
       "      <td>55599</td>\n",
       "      <td>45</td>\n",
       "      <td>4169.42</td>\n",
       "      <td>38</td>\n",
       "      <td>34</td>\n",
       "      <td>8201.5875</td>\n",
       "      <td>122</td>\n",
       "      <td>67.226127</td>\n",
       "      <td>92.653778</td>\n",
       "      <td>77</td>\n",
       "    </tr>\n",
       "    <tr>\n",
       "      <th>4</th>\n",
       "      <td>male</td>\n",
       "      <td>2</td>\n",
       "      <td>48380</td>\n",
       "      <td>17</td>\n",
       "      <td>3043.33</td>\n",
       "      <td>37</td>\n",
       "      <td>24</td>\n",
       "      <td>2132.1125</td>\n",
       "      <td>108</td>\n",
       "      <td>19.741782</td>\n",
       "      <td>179.019412</td>\n",
       "      <td>91</td>\n",
       "    </tr>\n",
       "    <tr>\n",
       "      <th>5</th>\n",
       "      <td>male</td>\n",
       "      <td>3</td>\n",
       "      <td>158064</td>\n",
       "      <td>47</td>\n",
       "      <td>6706.42</td>\n",
       "      <td>173</td>\n",
       "      <td>78</td>\n",
       "      <td>4393.5865</td>\n",
       "      <td>347</td>\n",
       "      <td>12.661633</td>\n",
       "      <td>142.689787</td>\n",
       "      <td>300</td>\n",
       "    </tr>\n",
       "  </tbody>\n",
       "</table>\n",
       "</div>"
      ],
      "text/plain": [
       "      Sex  Pclass  PassengerId  Survived      Age  SibSp  Parch       Fare  \\\n",
       "0  female       1        44106        91  2942.00     52     43  9975.8250   \n",
       "1  female       2        33676        70  2125.50     37     46  1669.7292   \n",
       "2  female       3        57561        72  2218.50    129    115  2321.1086   \n",
       "3    male       1        55599        45  4169.42     38     34  8201.5875   \n",
       "4    male       2        48380        17  3043.33     37     24  2132.1125   \n",
       "5    male       3       158064        47  6706.42    173     78  4393.5865   \n",
       "\n",
       "   Counter  Average_Fare  Average_Age  Died  \n",
       "0       94    106.125798    32.329670     3  \n",
       "1       76     21.970121    30.364286     6  \n",
       "2      144     16.118810    30.812500    72  \n",
       "3      122     67.226127    92.653778    77  \n",
       "4      108     19.741782   179.019412    91  \n",
       "5      347     12.661633   142.689787   300  "
      ]
     },
     "execution_count": 12,
     "metadata": {},
     "output_type": "execute_result"
    }
   ],
   "source": [
    "groop[\"Average_Fare\"] = groop[\"Fare\"]/groop[\"Counter\"]\n",
    "groop[\"Average_Age\"]  = groop[\"Age\"]/groop[\"Survived\"]\n",
    "groop[\"Died\"] = groop[\"Counter\"]-groop[\"Survived\"]\n",
    "groop"
   ]
  },
  {
   "cell_type": "code",
   "execution_count": 13,
   "id": "frequent-comparative",
   "metadata": {
    "execution": {
     "iopub.execute_input": "2023-10-11T13:57:28.690529Z",
     "iopub.status.busy": "2023-10-11T13:57:28.689931Z",
     "iopub.status.idle": "2023-10-11T13:57:28.697829Z",
     "shell.execute_reply": "2023-10-11T13:57:28.698453Z",
     "shell.execute_reply.started": "2023-10-10T13:09:19.857030Z"
    },
    "papermill": {
     "duration": 0.025834,
     "end_time": "2023-10-11T13:57:28.698628",
     "exception": false,
     "start_time": "2023-10-11T13:57:28.672794",
     "status": "completed"
    },
    "tags": []
   },
   "outputs": [
    {
     "data": {
      "text/plain": [
       "Index(['PassengerId', 'Survived', 'Pclass', 'Name', 'Sex', 'Age', 'SibSp',\n",
       "       'Parch', 'Ticket', 'Fare', 'Cabin', 'Embarked', 'Counter'],\n",
       "      dtype='object')"
      ]
     },
     "execution_count": 13,
     "metadata": {},
     "output_type": "execute_result"
    }
   ],
   "source": [
    "data.columns"
   ]
  },
  {
   "cell_type": "code",
   "execution_count": 14,
   "id": "flexible-supply",
   "metadata": {
    "execution": {
     "iopub.execute_input": "2023-10-11T13:57:28.731088Z",
     "iopub.status.busy": "2023-10-11T13:57:28.730180Z",
     "iopub.status.idle": "2023-10-11T13:57:28.894278Z",
     "shell.execute_reply": "2023-10-11T13:57:28.893638Z",
     "shell.execute_reply.started": "2023-10-10T23:30:19.452326Z"
    },
    "papermill": {
     "duration": 0.181168,
     "end_time": "2023-10-11T13:57:28.894445",
     "exception": false,
     "start_time": "2023-10-11T13:57:28.713277",
     "status": "completed"
    },
    "tags": []
   },
   "outputs": [
    {
     "data": {
      "text/plain": [
       "<BarContainer object of 6 artists>"
      ]
     },
     "execution_count": 14,
     "metadata": {},
     "output_type": "execute_result"
    },
    {
     "data": {
      "image/png": "[encoded data removed]",
      "text/plain": [
       "<Figure size 720x720 with 1 Axes>"
      ]
     },
     "metadata": {},
     "output_type": "display_data"
    }
   ],
   "source": [
    "plt.figure(figsize=(10,10))\n",
    "plt.bar(groop.Sex, groop.Survived)"
   ]
  },
  {
   "cell_type": "code",
   "execution_count": null,
   "id": "selective-cycle",
   "metadata": {
    "papermill": {
     "duration": 0.014316,
     "end_time": "2023-10-11T13:57:28.923336",
     "exception": false,
     "start_time": "2023-10-11T13:57:28.909020",
     "status": "completed"
    },
    "tags": []
   },
   "outputs": [],
   "source": []
  }
 ],
 "metadata": {
  "kernelspec": {
   "display_name": "Python 3",
   "language": "python",
   "name": "python3"
  },
  "language_info": {
   "codemirror_mode": {
    "name": "ipython",
    "version": 3
   },
   "file_extension": ".py",
   "mimetype": "text/x-python",
   "name": "python",
   "nbconvert_exporter": "python",
   "pygments_lexer": "ipython3",
   "version": "3.7.10"
  },
  "papermill": {
   "default_parameters": {},
   "duration": 12.846403,
   "end_time": "2023-10-11T13:57:29.749120",
   "environment_variables": {},
   "exception": null,
   "input_path": "__notebook__.ipynb",
   "output_path": "__notebook__.ipynb",
   "parameters": {},
   "start_time": "2023-10-11T13:57:16.902717",
   "version": "2.3.3"
  }
 },
 "nbformat": 4,
 "nbformat_minor": 5
}
