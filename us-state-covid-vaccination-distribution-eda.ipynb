{
 "cells": [
  {
   "cell_type": "markdown",
   "metadata": {
    "papermill": {
     "duration": 0.029482,
     "end_time": "2021-04-16T19:55:14.432703",
     "exception": false,
     "start_time": "2021-04-16T19:55:14.403221",
     "status": "completed"
    },
    "tags": []
   },
   "source": [
    "![](https://images.theconversation.com/files/341551/original/file-20200612-153812-ws3rqu.jpg?ixlib=rb-1.1.0&q=45&auto=format&w=754&fit=clip)"
   ]
  },
  {
   "cell_type": "markdown",
   "metadata": {
    "papermill": {
     "duration": 0.026493,
     "end_time": "2021-04-16T19:55:14.486112",
     "exception": false,
     "start_time": "2021-04-16T19:55:14.459619",
     "status": "completed"
    },
    "tags": []
   },
   "source": [
    "Hi Welcome to my EDA Task about COVID vaccine distribution. For this task we have been asked to answer two questions by exploring the dataset:\n",
    "\n",
    "1. (A) a list of the top 10 states that distributed the most vaccines total.\n",
    "2. (B) a list of the top 10 states that distributed the most vaccines per capita -- for the past 7 days.\n",
    "\n",
    "The dataset seems to be being updated quite regularly so my answers may differ from other submissions.\n",
    "\n",
    "* [Import Libraries and Load dataset.](#1)\n",
    "* [Explore Data](#2)\n",
    "* [Q1 Working Out](#3)\n",
    "* [Q1 Answer](#4)\n",
    "* [Q2 Working Out](#5)\n",
    "* [Q2 Answer](#6)\n"
   ]
  },
  {
   "cell_type": "markdown",
   "metadata": {
    "papermill": {
     "duration": 0.027548,
     "end_time": "2021-04-16T19:55:14.540194",
     "exception": false,
     "start_time": "2021-04-16T19:55:14.512646",
     "status": "completed"
    },
    "tags": []
   },
   "source": [
    "<a id = \"1\"></a><br>\n",
    "# Import the neseccary"
   ]
  },
  {
   "cell_type": "code",
   "execution_count": 1,
   "metadata": {
    "_cell_guid": "b1076dfc-b9ad-4769-8c92-a6c4dae69d19",
    "_uuid": "8f2839f25d086af736a60e9eeb907d3b93b6e0e5",
    "execution": {
     "iopub.execute_input": "2021-04-16T19:55:14.599226Z",
     "iopub.status.busy": "2021-04-16T19:55:14.598256Z",
     "iopub.status.idle": "2021-04-16T19:55:15.530316Z",
     "shell.execute_reply": "2021-04-16T19:55:15.529589Z"
    },
    "papermill": {
     "duration": 0.963773,
     "end_time": "2021-04-16T19:55:15.530538",
     "exception": false,
     "start_time": "2021-04-16T19:55:14.566765",
     "status": "completed"
    },
    "tags": []
   },
   "outputs": [],
   "source": [
    "import pandas as pd\n",
    "import numpy as np\n",
    "import seaborn as sns"
   ]
  },
  {
   "cell_type": "code",
   "execution_count": 2,
   "metadata": {
    "execution": {
     "iopub.execute_input": "2021-04-16T19:55:15.591214Z",
     "iopub.status.busy": "2021-04-16T19:55:15.590571Z",
     "iopub.status.idle": "2021-04-16T19:55:15.634325Z",
     "shell.execute_reply": "2021-04-16T19:55:15.633628Z"
    },
    "papermill": {
     "duration": 0.075617,
     "end_time": "2021-04-16T19:55:15.634481",
     "exception": false,
     "start_time": "2021-04-16T19:55:15.558864",
     "status": "completed"
    },
    "tags": []
   },
   "outputs": [],
   "source": [
    "covid = pd.read_csv(\"../input/usa-covid19-vaccinations/us_state_vaccinations.csv\")"
   ]
  },
  {
   "cell_type": "markdown",
   "metadata": {
    "papermill": {
     "duration": 0.026471,
     "end_time": "2021-04-16T19:55:15.687866",
     "exception": false,
     "start_time": "2021-04-16T19:55:15.661395",
     "status": "completed"
    },
    "tags": []
   },
   "source": [
    "<a id = \"2\"></a><br>\n",
    "# Explore Dataset"
   ]
  },
  {
   "cell_type": "code",
   "execution_count": 3,
   "metadata": {
    "execution": {
     "iopub.execute_input": "2021-04-16T19:55:15.756131Z",
     "iopub.status.busy": "2021-04-16T19:55:15.755433Z",
     "iopub.status.idle": "2021-04-16T19:55:15.789188Z",
     "shell.execute_reply": "2021-04-16T19:55:15.788499Z"
    },
    "papermill": {
     "duration": 0.074559,
     "end_time": "2021-04-16T19:55:15.789363",
     "exception": false,
     "start_time": "2021-04-16T19:55:15.714804",
     "status": "completed"
    },
    "tags": []
   },
   "outputs": [
    {
     "data": {
      "text/html": [
       "<div>\n",
       "<style scoped>\n",
       "    .dataframe tbody tr th:only-of-type {\n",
       "        vertical-align: middle;\n",
       "    }\n",
       "\n",
       "    .dataframe tbody tr th {\n",
       "        vertical-align: top;\n",
       "    }\n",
       "\n",
       "    .dataframe thead th {\n",
       "        text-align: right;\n",
       "    }\n",
       "</style>\n",
       "<table border=\"1\" class=\"dataframe\">\n",
       "  <thead>\n",
       "    <tr style=\"text-align: right;\">\n",
       "      <th></th>\n",
       "      <th>date</th>\n",
       "      <th>location</th>\n",
       "      <th>total_vaccinations</th>\n",
       "      <th>total_distributed</th>\n",
       "      <th>people_vaccinated</th>\n",
       "      <th>people_fully_vaccinated_per_hundred</th>\n",
       "      <th>total_vaccinations_per_hundred</th>\n",
       "      <th>people_fully_vaccinated</th>\n",
       "      <th>people_vaccinated_per_hundred</th>\n",
       "      <th>distributed_per_hundred</th>\n",
       "      <th>daily_vaccinations_raw</th>\n",
       "      <th>daily_vaccinations</th>\n",
       "      <th>daily_vaccinations_per_million</th>\n",
       "      <th>share_doses_used</th>\n",
       "    </tr>\n",
       "  </thead>\n",
       "  <tbody>\n",
       "    <tr>\n",
       "      <th>0</th>\n",
       "      <td>2021-01-12</td>\n",
       "      <td>Alabama</td>\n",
       "      <td>78134.0</td>\n",
       "      <td>377025.0</td>\n",
       "      <td>70861.0</td>\n",
       "      <td>0.15</td>\n",
       "      <td>1.59</td>\n",
       "      <td>7270.0</td>\n",
       "      <td>1.45</td>\n",
       "      <td>7.69</td>\n",
       "      <td>NaN</td>\n",
       "      <td>NaN</td>\n",
       "      <td>NaN</td>\n",
       "      <td>0.207</td>\n",
       "    </tr>\n",
       "    <tr>\n",
       "      <th>1</th>\n",
       "      <td>2021-01-13</td>\n",
       "      <td>Alabama</td>\n",
       "      <td>84040.0</td>\n",
       "      <td>378975.0</td>\n",
       "      <td>74792.0</td>\n",
       "      <td>0.19</td>\n",
       "      <td>1.71</td>\n",
       "      <td>9245.0</td>\n",
       "      <td>1.53</td>\n",
       "      <td>7.73</td>\n",
       "      <td>5906.0</td>\n",
       "      <td>5906.0</td>\n",
       "      <td>1205.0</td>\n",
       "      <td>0.222</td>\n",
       "    </tr>\n",
       "    <tr>\n",
       "      <th>2</th>\n",
       "      <td>2021-01-14</td>\n",
       "      <td>Alabama</td>\n",
       "      <td>92300.0</td>\n",
       "      <td>435350.0</td>\n",
       "      <td>80480.0</td>\n",
       "      <td>NaN</td>\n",
       "      <td>1.88</td>\n",
       "      <td>NaN</td>\n",
       "      <td>1.64</td>\n",
       "      <td>8.88</td>\n",
       "      <td>8260.0</td>\n",
       "      <td>7083.0</td>\n",
       "      <td>1445.0</td>\n",
       "      <td>0.212</td>\n",
       "    </tr>\n",
       "    <tr>\n",
       "      <th>3</th>\n",
       "      <td>2021-01-15</td>\n",
       "      <td>Alabama</td>\n",
       "      <td>100567.0</td>\n",
       "      <td>444650.0</td>\n",
       "      <td>86956.0</td>\n",
       "      <td>0.28</td>\n",
       "      <td>2.05</td>\n",
       "      <td>13488.0</td>\n",
       "      <td>1.77</td>\n",
       "      <td>9.07</td>\n",
       "      <td>8267.0</td>\n",
       "      <td>7478.0</td>\n",
       "      <td>1525.0</td>\n",
       "      <td>0.226</td>\n",
       "    </tr>\n",
       "    <tr>\n",
       "      <th>4</th>\n",
       "      <td>2021-01-16</td>\n",
       "      <td>Alabama</td>\n",
       "      <td>NaN</td>\n",
       "      <td>NaN</td>\n",
       "      <td>NaN</td>\n",
       "      <td>NaN</td>\n",
       "      <td>NaN</td>\n",
       "      <td>NaN</td>\n",
       "      <td>NaN</td>\n",
       "      <td>NaN</td>\n",
       "      <td>7557.0</td>\n",
       "      <td>7498.0</td>\n",
       "      <td>1529.0</td>\n",
       "      <td>NaN</td>\n",
       "    </tr>\n",
       "  </tbody>\n",
       "</table>\n",
       "</div>"
      ],
      "text/plain": [
       "         date location  total_vaccinations  total_distributed  \\\n",
       "0  2021-01-12  Alabama             78134.0           377025.0   \n",
       "1  2021-01-13  Alabama             84040.0           378975.0   \n",
       "2  2021-01-14  Alabama             92300.0           435350.0   \n",
       "3  2021-01-15  Alabama            100567.0           444650.0   \n",
       "4  2021-01-16  Alabama                 NaN                NaN   \n",
       "\n",
       "   people_vaccinated  people_fully_vaccinated_per_hundred  \\\n",
       "0            70861.0                                 0.15   \n",
       "1            74792.0                                 0.19   \n",
       "2            80480.0                                  NaN   \n",
       "3            86956.0                                 0.28   \n",
       "4                NaN                                  NaN   \n",
       "\n",
       "   total_vaccinations_per_hundred  people_fully_vaccinated  \\\n",
       "0                            1.59                   7270.0   \n",
       "1                            1.71                   9245.0   \n",
       "2                            1.88                      NaN   \n",
       "3                            2.05                  13488.0   \n",
       "4                             NaN                      NaN   \n",
       "\n",
       "   people_vaccinated_per_hundred  distributed_per_hundred  \\\n",
       "0                           1.45                     7.69   \n",
       "1                           1.53                     7.73   \n",
       "2                           1.64                     8.88   \n",
       "3                           1.77                     9.07   \n",
       "4                            NaN                      NaN   \n",
       "\n",
       "   daily_vaccinations_raw  daily_vaccinations  daily_vaccinations_per_million  \\\n",
       "0                     NaN                 NaN                             NaN   \n",
       "1                  5906.0              5906.0                          1205.0   \n",
       "2                  8260.0              7083.0                          1445.0   \n",
       "3                  8267.0              7478.0                          1525.0   \n",
       "4                  7557.0              7498.0                          1529.0   \n",
       "\n",
       "   share_doses_used  \n",
       "0             0.207  \n",
       "1             0.222  \n",
       "2             0.212  \n",
       "3             0.226  \n",
       "4               NaN  "
      ]
     },
     "execution_count": 3,
     "metadata": {},
     "output_type": "execute_result"
    }
   ],
   "source": [
    "covid.head()"
   ]
  },
  {
   "cell_type": "code",
   "execution_count": 4,
   "metadata": {
    "execution": {
     "iopub.execute_input": "2021-04-16T19:55:15.855461Z",
     "iopub.status.busy": "2021-04-16T19:55:15.854361Z",
     "iopub.status.idle": "2021-04-16T19:55:15.902786Z",
     "shell.execute_reply": "2021-04-16T19:55:15.902077Z"
    },
    "papermill": {
     "duration": 0.085281,
     "end_time": "2021-04-16T19:55:15.902933",
     "exception": false,
     "start_time": "2021-04-16T19:55:15.817652",
     "status": "completed"
    },
    "tags": []
   },
   "outputs": [
    {
     "data": {
      "text/html": [
       "<div>\n",
       "<style scoped>\n",
       "    .dataframe tbody tr th:only-of-type {\n",
       "        vertical-align: middle;\n",
       "    }\n",
       "\n",
       "    .dataframe tbody tr th {\n",
       "        vertical-align: top;\n",
       "    }\n",
       "\n",
       "    .dataframe thead th {\n",
       "        text-align: right;\n",
       "    }\n",
       "</style>\n",
       "<table border=\"1\" class=\"dataframe\">\n",
       "  <thead>\n",
       "    <tr style=\"text-align: right;\">\n",
       "      <th></th>\n",
       "      <th>total_vaccinations</th>\n",
       "      <th>total_distributed</th>\n",
       "      <th>people_vaccinated</th>\n",
       "      <th>people_fully_vaccinated_per_hundred</th>\n",
       "      <th>total_vaccinations_per_hundred</th>\n",
       "      <th>people_fully_vaccinated</th>\n",
       "      <th>people_vaccinated_per_hundred</th>\n",
       "      <th>distributed_per_hundred</th>\n",
       "      <th>daily_vaccinations_raw</th>\n",
       "      <th>daily_vaccinations</th>\n",
       "      <th>daily_vaccinations_per_million</th>\n",
       "      <th>share_doses_used</th>\n",
       "    </tr>\n",
       "  </thead>\n",
       "  <tbody>\n",
       "    <tr>\n",
       "      <th>count</th>\n",
       "      <td>5.863000e+03</td>\n",
       "      <td>5.763000e+03</td>\n",
       "      <td>5.751000e+03</td>\n",
       "      <td>5369.000000</td>\n",
       "      <td>5471.000000</td>\n",
       "      <td>5.669000e+03</td>\n",
       "      <td>5446.000000</td>\n",
       "      <td>5458.000000</td>\n",
       "      <td>6.068000e+03</td>\n",
       "      <td>6.068000e+03</td>\n",
       "      <td>5661.000000</td>\n",
       "      <td>5763.000000</td>\n",
       "    </tr>\n",
       "    <tr>\n",
       "      <th>mean</th>\n",
       "      <td>2.835465e+06</td>\n",
       "      <td>3.712938e+06</td>\n",
       "      <td>1.859633e+06</td>\n",
       "      <td>9.610691</td>\n",
       "      <td>27.361837</td>\n",
       "      <td>9.564218e+05</td>\n",
       "      <td>18.033461</td>\n",
       "      <td>37.951933</td>\n",
       "      <td>6.608007e+04</td>\n",
       "      <td>6.364312e+04</td>\n",
       "      <td>5953.158453</td>\n",
       "      <td>0.695017</td>\n",
       "    </tr>\n",
       "    <tr>\n",
       "      <th>std</th>\n",
       "      <td>1.278212e+07</td>\n",
       "      <td>1.671072e+07</td>\n",
       "      <td>8.417801e+06</td>\n",
       "      <td>7.425904</td>\n",
       "      <td>17.621524</td>\n",
       "      <td>4.699572e+06</td>\n",
       "      <td>10.582232</td>\n",
       "      <td>22.245322</td>\n",
       "      <td>2.774482e+05</td>\n",
       "      <td>2.583822e+05</td>\n",
       "      <td>2726.476266</td>\n",
       "      <td>0.161150</td>\n",
       "    </tr>\n",
       "    <tr>\n",
       "      <th>min</th>\n",
       "      <td>4.160000e+02</td>\n",
       "      <td>6.000000e+03</td>\n",
       "      <td>4.010000e+02</td>\n",
       "      <td>0.000000</td>\n",
       "      <td>0.170000</td>\n",
       "      <td>1.000000e+00</td>\n",
       "      <td>0.240000</td>\n",
       "      <td>6.140000</td>\n",
       "      <td>-4.453500e+04</td>\n",
       "      <td>0.000000e+00</td>\n",
       "      <td>0.000000</td>\n",
       "      <td>0.043000</td>\n",
       "    </tr>\n",
       "    <tr>\n",
       "      <th>25%</th>\n",
       "      <td>2.169280e+05</td>\n",
       "      <td>3.348125e+05</td>\n",
       "      <td>1.546925e+05</td>\n",
       "      <td>2.790000</td>\n",
       "      <td>11.860000</td>\n",
       "      <td>4.550500e+04</td>\n",
       "      <td>9.140000</td>\n",
       "      <td>18.505000</td>\n",
       "      <td>4.099500e+03</td>\n",
       "      <td>6.353250e+03</td>\n",
       "      <td>3855.000000</td>\n",
       "      <td>0.605000</td>\n",
       "    </tr>\n",
       "    <tr>\n",
       "      <th>50%</th>\n",
       "      <td>6.885760e+05</td>\n",
       "      <td>9.720650e+05</td>\n",
       "      <td>4.735290e+05</td>\n",
       "      <td>8.410000</td>\n",
       "      <td>24.660000</td>\n",
       "      <td>1.983790e+05</td>\n",
       "      <td>16.370000</td>\n",
       "      <td>33.970000</td>\n",
       "      <td>1.641000e+04</td>\n",
       "      <td>1.841350e+04</td>\n",
       "      <td>5777.000000</td>\n",
       "      <td>0.736000</td>\n",
       "    </tr>\n",
       "    <tr>\n",
       "      <th>75%</th>\n",
       "      <td>1.928917e+06</td>\n",
       "      <td>2.415805e+06</td>\n",
       "      <td>1.224244e+06</td>\n",
       "      <td>15.020000</td>\n",
       "      <td>40.780000</td>\n",
       "      <td>6.294700e+05</td>\n",
       "      <td>26.100000</td>\n",
       "      <td>54.085000</td>\n",
       "      <td>4.410400e+04</td>\n",
       "      <td>4.327925e+04</td>\n",
       "      <td>7659.000000</td>\n",
       "      <td>0.804000</td>\n",
       "    </tr>\n",
       "    <tr>\n",
       "      <th>max</th>\n",
       "      <td>1.983170e+08</td>\n",
       "      <td>2.554007e+08</td>\n",
       "      <td>1.258229e+08</td>\n",
       "      <td>41.530000</td>\n",
       "      <td>89.420000</td>\n",
       "      <td>7.849829e+07</td>\n",
       "      <td>56.230000</td>\n",
       "      <td>137.380000</td>\n",
       "      <td>4.629928e+06</td>\n",
       "      <td>3.384387e+06</td>\n",
       "      <td>22525.000000</td>\n",
       "      <td>1.105000</td>\n",
       "    </tr>\n",
       "  </tbody>\n",
       "</table>\n",
       "</div>"
      ],
      "text/plain": [
       "       total_vaccinations  total_distributed  people_vaccinated  \\\n",
       "count        5.863000e+03       5.763000e+03       5.751000e+03   \n",
       "mean         2.835465e+06       3.712938e+06       1.859633e+06   \n",
       "std          1.278212e+07       1.671072e+07       8.417801e+06   \n",
       "min          4.160000e+02       6.000000e+03       4.010000e+02   \n",
       "25%          2.169280e+05       3.348125e+05       1.546925e+05   \n",
       "50%          6.885760e+05       9.720650e+05       4.735290e+05   \n",
       "75%          1.928917e+06       2.415805e+06       1.224244e+06   \n",
       "max          1.983170e+08       2.554007e+08       1.258229e+08   \n",
       "\n",
       "       people_fully_vaccinated_per_hundred  total_vaccinations_per_hundred  \\\n",
       "count                          5369.000000                     5471.000000   \n",
       "mean                              9.610691                       27.361837   \n",
       "std                               7.425904                       17.621524   \n",
       "min                               0.000000                        0.170000   \n",
       "25%                               2.790000                       11.860000   \n",
       "50%                               8.410000                       24.660000   \n",
       "75%                              15.020000                       40.780000   \n",
       "max                              41.530000                       89.420000   \n",
       "\n",
       "       people_fully_vaccinated  people_vaccinated_per_hundred  \\\n",
       "count             5.669000e+03                    5446.000000   \n",
       "mean              9.564218e+05                      18.033461   \n",
       "std               4.699572e+06                      10.582232   \n",
       "min               1.000000e+00                       0.240000   \n",
       "25%               4.550500e+04                       9.140000   \n",
       "50%               1.983790e+05                      16.370000   \n",
       "75%               6.294700e+05                      26.100000   \n",
       "max               7.849829e+07                      56.230000   \n",
       "\n",
       "       distributed_per_hundred  daily_vaccinations_raw  daily_vaccinations  \\\n",
       "count              5458.000000            6.068000e+03        6.068000e+03   \n",
       "mean                 37.951933            6.608007e+04        6.364312e+04   \n",
       "std                  22.245322            2.774482e+05        2.583822e+05   \n",
       "min                   6.140000           -4.453500e+04        0.000000e+00   \n",
       "25%                  18.505000            4.099500e+03        6.353250e+03   \n",
       "50%                  33.970000            1.641000e+04        1.841350e+04   \n",
       "75%                  54.085000            4.410400e+04        4.327925e+04   \n",
       "max                 137.380000            4.629928e+06        3.384387e+06   \n",
       "\n",
       "       daily_vaccinations_per_million  share_doses_used  \n",
       "count                     5661.000000       5763.000000  \n",
       "mean                      5953.158453          0.695017  \n",
       "std                       2726.476266          0.161150  \n",
       "min                          0.000000          0.043000  \n",
       "25%                       3855.000000          0.605000  \n",
       "50%                       5777.000000          0.736000  \n",
       "75%                       7659.000000          0.804000  \n",
       "max                      22525.000000          1.105000  "
      ]
     },
     "execution_count": 4,
     "metadata": {},
     "output_type": "execute_result"
    }
   ],
   "source": [
    "covid.describe()"
   ]
  },
  {
   "cell_type": "code",
   "execution_count": 5,
   "metadata": {
    "execution": {
     "iopub.execute_input": "2021-04-16T19:55:15.969095Z",
     "iopub.status.busy": "2021-04-16T19:55:15.968075Z",
     "iopub.status.idle": "2021-04-16T19:55:15.973032Z",
     "shell.execute_reply": "2021-04-16T19:55:15.972430Z"
    },
    "papermill": {
     "duration": 0.040954,
     "end_time": "2021-04-16T19:55:15.973170",
     "exception": false,
     "start_time": "2021-04-16T19:55:15.932216",
     "status": "completed"
    },
    "tags": []
   },
   "outputs": [
    {
     "data": {
      "text/plain": [
       "date                                    object\n",
       "location                                object\n",
       "total_vaccinations                     float64\n",
       "total_distributed                      float64\n",
       "people_vaccinated                      float64\n",
       "people_fully_vaccinated_per_hundred    float64\n",
       "total_vaccinations_per_hundred         float64\n",
       "people_fully_vaccinated                float64\n",
       "people_vaccinated_per_hundred          float64\n",
       "distributed_per_hundred                float64\n",
       "daily_vaccinations_raw                 float64\n",
       "daily_vaccinations                     float64\n",
       "daily_vaccinations_per_million         float64\n",
       "share_doses_used                       float64\n",
       "dtype: object"
      ]
     },
     "execution_count": 5,
     "metadata": {},
     "output_type": "execute_result"
    }
   ],
   "source": [
    "covid.dtypes"
   ]
  },
  {
   "cell_type": "code",
   "execution_count": 6,
   "metadata": {
    "execution": {
     "iopub.execute_input": "2021-04-16T19:55:16.036653Z",
     "iopub.status.busy": "2021-04-16T19:55:16.035604Z",
     "iopub.status.idle": "2021-04-16T19:55:16.039635Z",
     "shell.execute_reply": "2021-04-16T19:55:16.039016Z"
    },
    "papermill": {
     "duration": 0.037848,
     "end_time": "2021-04-16T19:55:16.039777",
     "exception": false,
     "start_time": "2021-04-16T19:55:16.001929",
     "status": "completed"
    },
    "tags": []
   },
   "outputs": [
    {
     "data": {
      "text/plain": [
       "(6133, 14)"
      ]
     },
     "execution_count": 6,
     "metadata": {},
     "output_type": "execute_result"
    }
   ],
   "source": [
    "covid.shape"
   ]
  },
  {
   "cell_type": "code",
   "execution_count": 7,
   "metadata": {
    "execution": {
     "iopub.execute_input": "2021-04-16T19:55:16.106549Z",
     "iopub.status.busy": "2021-04-16T19:55:16.105730Z",
     "iopub.status.idle": "2021-04-16T19:55:16.130851Z",
     "shell.execute_reply": "2021-04-16T19:55:16.131360Z"
    },
    "papermill": {
     "duration": 0.062532,
     "end_time": "2021-04-16T19:55:16.131555",
     "exception": false,
     "start_time": "2021-04-16T19:55:16.069023",
     "status": "completed"
    },
    "tags": []
   },
   "outputs": [
    {
     "data": {
      "text/plain": [
       "date                                    0.00\n",
       "location                                0.00\n",
       "total_vaccinations                      4.40\n",
       "total_distributed                       6.03\n",
       "people_vaccinated                       6.23\n",
       "people_fully_vaccinated_per_hundred    12.46\n",
       "total_vaccinations_per_hundred         10.79\n",
       "people_fully_vaccinated                 7.57\n",
       "people_vaccinated_per_hundred          11.20\n",
       "distributed_per_hundred                11.01\n",
       "daily_vaccinations_raw                  1.06\n",
       "daily_vaccinations                      1.06\n",
       "daily_vaccinations_per_million          7.70\n",
       "share_doses_used                        6.03\n",
       "dtype: float64"
      ]
     },
     "execution_count": 7,
     "metadata": {},
     "output_type": "execute_result"
    }
   ],
   "source": [
    "round((covid.isnull().sum()/covid.shape[0])*100,2)"
   ]
  },
  {
   "cell_type": "code",
   "execution_count": 8,
   "metadata": {
    "execution": {
     "iopub.execute_input": "2021-04-16T19:55:16.196510Z",
     "iopub.status.busy": "2021-04-16T19:55:16.195762Z",
     "iopub.status.idle": "2021-04-16T19:55:16.203615Z",
     "shell.execute_reply": "2021-04-16T19:55:16.202994Z"
    },
    "papermill": {
     "duration": 0.041997,
     "end_time": "2021-04-16T19:55:16.203767",
     "exception": false,
     "start_time": "2021-04-16T19:55:16.161770",
     "status": "completed"
    },
    "tags": []
   },
   "outputs": [
    {
     "data": {
      "text/plain": [
       "date                                   2021-01-13\n",
       "location                                  Alabama\n",
       "total_vaccinations                      84040.000\n",
       "total_distributed                      378975.000\n",
       "people_vaccinated                       74792.000\n",
       "people_fully_vaccinated_per_hundred         0.190\n",
       "total_vaccinations_per_hundred              1.710\n",
       "people_fully_vaccinated                  9245.000\n",
       "people_vaccinated_per_hundred               1.530\n",
       "distributed_per_hundred                     7.730\n",
       "daily_vaccinations_raw                   5906.000\n",
       "daily_vaccinations                       5906.000\n",
       "daily_vaccinations_per_million           1205.000\n",
       "share_doses_used                            0.222\n",
       "Name: 1, dtype: object"
      ]
     },
     "execution_count": 8,
     "metadata": {},
     "output_type": "execute_result"
    }
   ],
   "source": [
    "covid.iloc[1]"
   ]
  },
  {
   "cell_type": "code",
   "execution_count": 9,
   "metadata": {
    "execution": {
     "iopub.execute_input": "2021-04-16T19:55:16.273589Z",
     "iopub.status.busy": "2021-04-16T19:55:16.272516Z",
     "iopub.status.idle": "2021-04-16T19:55:16.276609Z",
     "shell.execute_reply": "2021-04-16T19:55:16.277060Z"
    },
    "papermill": {
     "duration": 0.042949,
     "end_time": "2021-04-16T19:55:16.277240",
     "exception": false,
     "start_time": "2021-04-16T19:55:16.234291",
     "status": "completed"
    },
    "tags": []
   },
   "outputs": [
    {
     "data": {
      "text/plain": [
       "date                                   2021-01-14\n",
       "location                                  Alabama\n",
       "total_vaccinations                      92300.000\n",
       "total_distributed                      435350.000\n",
       "people_vaccinated                       80480.000\n",
       "people_fully_vaccinated_per_hundred           NaN\n",
       "total_vaccinations_per_hundred              1.880\n",
       "people_fully_vaccinated                       NaN\n",
       "people_vaccinated_per_hundred               1.640\n",
       "distributed_per_hundred                     8.880\n",
       "daily_vaccinations_raw                   8260.000\n",
       "daily_vaccinations                       7083.000\n",
       "daily_vaccinations_per_million           1445.000\n",
       "share_doses_used                            0.212\n",
       "Name: 2, dtype: object"
      ]
     },
     "execution_count": 9,
     "metadata": {},
     "output_type": "execute_result"
    }
   ],
   "source": [
    "covid.iloc[2]"
   ]
  },
  {
   "cell_type": "code",
   "execution_count": 10,
   "metadata": {
    "execution": {
     "iopub.execute_input": "2021-04-16T19:55:16.343332Z",
     "iopub.status.busy": "2021-04-16T19:55:16.342363Z",
     "iopub.status.idle": "2021-04-16T19:55:16.349605Z",
     "shell.execute_reply": "2021-04-16T19:55:16.350051Z"
    },
    "papermill": {
     "duration": 0.041874,
     "end_time": "2021-04-16T19:55:16.350225",
     "exception": false,
     "start_time": "2021-04-16T19:55:16.308351",
     "status": "completed"
    },
    "tags": []
   },
   "outputs": [
    {
     "data": {
      "text/plain": [
       "date                                   2021-01-15\n",
       "location                                  Alabama\n",
       "total_vaccinations                     100567.000\n",
       "total_distributed                      444650.000\n",
       "people_vaccinated                       86956.000\n",
       "people_fully_vaccinated_per_hundred         0.280\n",
       "total_vaccinations_per_hundred              2.050\n",
       "people_fully_vaccinated                 13488.000\n",
       "people_vaccinated_per_hundred               1.770\n",
       "distributed_per_hundred                     9.070\n",
       "daily_vaccinations_raw                   8267.000\n",
       "daily_vaccinations                       7478.000\n",
       "daily_vaccinations_per_million           1525.000\n",
       "share_doses_used                            0.226\n",
       "Name: 3, dtype: object"
      ]
     },
     "execution_count": 10,
     "metadata": {},
     "output_type": "execute_result"
    }
   ],
   "source": [
    "covid.iloc[3]"
   ]
  },
  {
   "cell_type": "markdown",
   "metadata": {
    "papermill": {
     "duration": 0.030788,
     "end_time": "2021-04-16T19:55:16.411910",
     "exception": false,
     "start_time": "2021-04-16T19:55:16.381122",
     "status": "completed"
    },
    "tags": []
   },
   "source": [
    "So theres some missing data. There doesnt seem to be much of a reason behind the one I've looked at. I've brought up some rows from Alabama to try and understand what impact the missing data has and if theres any rhyme or reason to fill it with something or if it's fine to leave it out.\n",
    "\n",
    "The highest missing values are the following:\n",
    "\n",
    "1. people_fully_vaccinated_per_hundred    13.94%\n",
    "2. people_vaccinated_per_hundred          12.39%\n",
    "3. distributed_per_hundred                12.15%\n",
    "4. total_vaccinations_per_hundred         11.89%\n",
    "\n"
   ]
  },
  {
   "cell_type": "code",
   "execution_count": 11,
   "metadata": {
    "execution": {
     "iopub.execute_input": "2021-04-16T19:55:16.479171Z",
     "iopub.status.busy": "2021-04-16T19:55:16.478214Z",
     "iopub.status.idle": "2021-04-16T19:55:16.483882Z",
     "shell.execute_reply": "2021-04-16T19:55:16.484388Z"
    },
    "papermill": {
     "duration": 0.040671,
     "end_time": "2021-04-16T19:55:16.484560",
     "exception": false,
     "start_time": "2021-04-16T19:55:16.443889",
     "status": "completed"
    },
    "tags": []
   },
   "outputs": [
    {
     "data": {
      "text/plain": [
       "Index(['date', 'location', 'total_vaccinations', 'total_distributed',\n",
       "       'people_vaccinated', 'people_fully_vaccinated_per_hundred',\n",
       "       'total_vaccinations_per_hundred', 'people_fully_vaccinated',\n",
       "       'people_vaccinated_per_hundred', 'distributed_per_hundred',\n",
       "       'daily_vaccinations_raw', 'daily_vaccinations',\n",
       "       'daily_vaccinations_per_million', 'share_doses_used'],\n",
       "      dtype='object')"
      ]
     },
     "execution_count": 11,
     "metadata": {},
     "output_type": "execute_result"
    }
   ],
   "source": [
    "covid.columns"
   ]
  },
  {
   "cell_type": "code",
   "execution_count": 12,
   "metadata": {
    "execution": {
     "iopub.execute_input": "2021-04-16T19:55:16.552231Z",
     "iopub.status.busy": "2021-04-16T19:55:16.551300Z",
     "iopub.status.idle": "2021-04-16T19:55:16.588606Z",
     "shell.execute_reply": "2021-04-16T19:55:16.589085Z"
    },
    "papermill": {
     "duration": 0.072905,
     "end_time": "2021-04-16T19:55:16.589254",
     "exception": false,
     "start_time": "2021-04-16T19:55:16.516349",
     "status": "completed"
    },
    "tags": []
   },
   "outputs": [
    {
     "data": {
      "text/html": [
       "<div>\n",
       "<style scoped>\n",
       "    .dataframe tbody tr th:only-of-type {\n",
       "        vertical-align: middle;\n",
       "    }\n",
       "\n",
       "    .dataframe tbody tr th {\n",
       "        vertical-align: top;\n",
       "    }\n",
       "\n",
       "    .dataframe thead th {\n",
       "        text-align: right;\n",
       "    }\n",
       "</style>\n",
       "<table border=\"1\" class=\"dataframe\">\n",
       "  <thead>\n",
       "    <tr style=\"text-align: right;\">\n",
       "      <th></th>\n",
       "      <th>total_vaccinations</th>\n",
       "      <th>total_distributed</th>\n",
       "      <th>people_vaccinated</th>\n",
       "      <th>people_fully_vaccinated_per_hundred</th>\n",
       "      <th>total_vaccinations_per_hundred</th>\n",
       "      <th>people_fully_vaccinated</th>\n",
       "      <th>people_vaccinated_per_hundred</th>\n",
       "      <th>distributed_per_hundred</th>\n",
       "      <th>daily_vaccinations_raw</th>\n",
       "      <th>daily_vaccinations</th>\n",
       "      <th>daily_vaccinations_per_million</th>\n",
       "      <th>share_doses_used</th>\n",
       "    </tr>\n",
       "    <tr>\n",
       "      <th>location</th>\n",
       "      <th></th>\n",
       "      <th></th>\n",
       "      <th></th>\n",
       "      <th></th>\n",
       "      <th></th>\n",
       "      <th></th>\n",
       "      <th></th>\n",
       "      <th></th>\n",
       "      <th></th>\n",
       "      <th></th>\n",
       "      <th></th>\n",
       "      <th></th>\n",
       "    </tr>\n",
       "  </thead>\n",
       "  <tbody>\n",
       "    <tr>\n",
       "      <th>Alabama</th>\n",
       "      <td>91832317.0</td>\n",
       "      <td>145628990.0</td>\n",
       "      <td>63158614.0</td>\n",
       "      <td>650.87</td>\n",
       "      <td>1872.89</td>\n",
       "      <td>31914394.0</td>\n",
       "      <td>1288.10</td>\n",
       "      <td>2970.06</td>\n",
       "      <td>2129258.0</td>\n",
       "      <td>2052027.0</td>\n",
       "      <td>418506.0</td>\n",
       "      <td>53.399</td>\n",
       "    </tr>\n",
       "    <tr>\n",
       "      <th>Alaska</th>\n",
       "      <td>23746876.0</td>\n",
       "      <td>35461820.0</td>\n",
       "      <td>15030246.0</td>\n",
       "      <td>1205.82</td>\n",
       "      <td>3246.16</td>\n",
       "      <td>8821110.0</td>\n",
       "      <td>2054.61</td>\n",
       "      <td>4847.49</td>\n",
       "      <td>463977.0</td>\n",
       "      <td>450443.0</td>\n",
       "      <td>615748.0</td>\n",
       "      <td>58.194</td>\n",
       "    </tr>\n",
       "    <tr>\n",
       "      <th>American Samoa</th>\n",
       "      <td>1790620.0</td>\n",
       "      <td>3007580.0</td>\n",
       "      <td>1137979.0</td>\n",
       "      <td>1175.84</td>\n",
       "      <td>3215.42</td>\n",
       "      <td>654821.0</td>\n",
       "      <td>2043.45</td>\n",
       "      <td>5400.56</td>\n",
       "      <td>32662.0</td>\n",
       "      <td>33457.0</td>\n",
       "      <td>600780.0</td>\n",
       "      <td>50.930</td>\n",
       "    </tr>\n",
       "    <tr>\n",
       "      <th>Arizona</th>\n",
       "      <td>177304471.0</td>\n",
       "      <td>227360810.0</td>\n",
       "      <td>116306258.0</td>\n",
       "      <td>801.59</td>\n",
       "      <td>2435.94</td>\n",
       "      <td>58346246.0</td>\n",
       "      <td>1597.83</td>\n",
       "      <td>3123.60</td>\n",
       "      <td>4165247.0</td>\n",
       "      <td>4062819.0</td>\n",
       "      <td>558182.0</td>\n",
       "      <td>64.804</td>\n",
       "    </tr>\n",
       "    <tr>\n",
       "      <th>Arkansas</th>\n",
       "      <td>64816764.0</td>\n",
       "      <td>95694755.0</td>\n",
       "      <td>43790334.0</td>\n",
       "      <td>720.51</td>\n",
       "      <td>2147.81</td>\n",
       "      <td>21742931.0</td>\n",
       "      <td>1451.09</td>\n",
       "      <td>3171.02</td>\n",
       "      <td>1494256.0</td>\n",
       "      <td>1535063.0</td>\n",
       "      <td>508670.0</td>\n",
       "      <td>59.375</td>\n",
       "    </tr>\n",
       "    <tr>\n",
       "      <th>...</th>\n",
       "      <td>...</td>\n",
       "      <td>...</td>\n",
       "      <td>...</td>\n",
       "      <td>...</td>\n",
       "      <td>...</td>\n",
       "      <td>...</td>\n",
       "      <td>...</td>\n",
       "      <td>...</td>\n",
       "      <td>...</td>\n",
       "      <td>...</td>\n",
       "      <td>...</td>\n",
       "      <td>...</td>\n",
       "    </tr>\n",
       "    <tr>\n",
       "      <th>Virginia</th>\n",
       "      <td>210848600.0</td>\n",
       "      <td>262308605.0</td>\n",
       "      <td>141475677.0</td>\n",
       "      <td>833.60</td>\n",
       "      <td>2470.19</td>\n",
       "      <td>71146647.0</td>\n",
       "      <td>1657.49</td>\n",
       "      <td>3073.14</td>\n",
       "      <td>5154652.0</td>\n",
       "      <td>4983632.0</td>\n",
       "      <td>583864.0</td>\n",
       "      <td>67.270</td>\n",
       "    </tr>\n",
       "    <tr>\n",
       "      <th>Washington</th>\n",
       "      <td>184927234.0</td>\n",
       "      <td>237502085.0</td>\n",
       "      <td>121760640.0</td>\n",
       "      <td>847.66</td>\n",
       "      <td>2428.55</td>\n",
       "      <td>64549024.0</td>\n",
       "      <td>1598.95</td>\n",
       "      <td>3118.88</td>\n",
       "      <td>4517385.0</td>\n",
       "      <td>4348829.0</td>\n",
       "      <td>571097.0</td>\n",
       "      <td>65.843</td>\n",
       "    </tr>\n",
       "    <tr>\n",
       "      <th>West Virginia</th>\n",
       "      <td>49959426.0</td>\n",
       "      <td>62330065.0</td>\n",
       "      <td>31024230.0</td>\n",
       "      <td>1033.71</td>\n",
       "      <td>2787.71</td>\n",
       "      <td>18525767.0</td>\n",
       "      <td>1731.14</td>\n",
       "      <td>3477.92</td>\n",
       "      <td>943626.0</td>\n",
       "      <td>946695.0</td>\n",
       "      <td>528245.0</td>\n",
       "      <td>73.455</td>\n",
       "    </tr>\n",
       "    <tr>\n",
       "      <th>Wisconsin</th>\n",
       "      <td>149241772.0</td>\n",
       "      <td>175576050.0</td>\n",
       "      <td>98204145.0</td>\n",
       "      <td>889.42</td>\n",
       "      <td>2563.20</td>\n",
       "      <td>51789452.0</td>\n",
       "      <td>1686.65</td>\n",
       "      <td>3015.53</td>\n",
       "      <td>3670565.0</td>\n",
       "      <td>3550754.0</td>\n",
       "      <td>609840.0</td>\n",
       "      <td>70.124</td>\n",
       "    </tr>\n",
       "    <tr>\n",
       "      <th>Wyoming</th>\n",
       "      <td>14233165.0</td>\n",
       "      <td>20154720.0</td>\n",
       "      <td>9018292.0</td>\n",
       "      <td>888.85</td>\n",
       "      <td>2459.25</td>\n",
       "      <td>5144255.0</td>\n",
       "      <td>1558.23</td>\n",
       "      <td>3482.38</td>\n",
       "      <td>300755.0</td>\n",
       "      <td>295528.0</td>\n",
       "      <td>510619.0</td>\n",
       "      <td>61.603</td>\n",
       "    </tr>\n",
       "  </tbody>\n",
       "</table>\n",
       "<p>65 rows × 12 columns</p>\n",
       "</div>"
      ],
      "text/plain": [
       "                total_vaccinations  total_distributed  people_vaccinated  \\\n",
       "location                                                                   \n",
       "Alabama                 91832317.0        145628990.0         63158614.0   \n",
       "Alaska                  23746876.0         35461820.0         15030246.0   \n",
       "American Samoa           1790620.0          3007580.0          1137979.0   \n",
       "Arizona                177304471.0        227360810.0        116306258.0   \n",
       "Arkansas                64816764.0         95694755.0         43790334.0   \n",
       "...                            ...                ...                ...   \n",
       "Virginia               210848600.0        262308605.0        141475677.0   \n",
       "Washington             184927234.0        237502085.0        121760640.0   \n",
       "West Virginia           49959426.0         62330065.0         31024230.0   \n",
       "Wisconsin              149241772.0        175576050.0         98204145.0   \n",
       "Wyoming                 14233165.0         20154720.0          9018292.0   \n",
       "\n",
       "                people_fully_vaccinated_per_hundred  \\\n",
       "location                                              \n",
       "Alabama                                      650.87   \n",
       "Alaska                                      1205.82   \n",
       "American Samoa                              1175.84   \n",
       "Arizona                                      801.59   \n",
       "Arkansas                                     720.51   \n",
       "...                                             ...   \n",
       "Virginia                                     833.60   \n",
       "Washington                                   847.66   \n",
       "West Virginia                               1033.71   \n",
       "Wisconsin                                    889.42   \n",
       "Wyoming                                      888.85   \n",
       "\n",
       "                total_vaccinations_per_hundred  people_fully_vaccinated  \\\n",
       "location                                                                  \n",
       "Alabama                                1872.89               31914394.0   \n",
       "Alaska                                 3246.16                8821110.0   \n",
       "American Samoa                         3215.42                 654821.0   \n",
       "Arizona                                2435.94               58346246.0   \n",
       "Arkansas                               2147.81               21742931.0   \n",
       "...                                        ...                      ...   \n",
       "Virginia                               2470.19               71146647.0   \n",
       "Washington                             2428.55               64549024.0   \n",
       "West Virginia                          2787.71               18525767.0   \n",
       "Wisconsin                              2563.20               51789452.0   \n",
       "Wyoming                                2459.25                5144255.0   \n",
       "\n",
       "                people_vaccinated_per_hundred  distributed_per_hundred  \\\n",
       "location                                                                 \n",
       "Alabama                               1288.10                  2970.06   \n",
       "Alaska                                2054.61                  4847.49   \n",
       "American Samoa                        2043.45                  5400.56   \n",
       "Arizona                               1597.83                  3123.60   \n",
       "Arkansas                              1451.09                  3171.02   \n",
       "...                                       ...                      ...   \n",
       "Virginia                              1657.49                  3073.14   \n",
       "Washington                            1598.95                  3118.88   \n",
       "West Virginia                         1731.14                  3477.92   \n",
       "Wisconsin                             1686.65                  3015.53   \n",
       "Wyoming                               1558.23                  3482.38   \n",
       "\n",
       "                daily_vaccinations_raw  daily_vaccinations  \\\n",
       "location                                                     \n",
       "Alabama                      2129258.0           2052027.0   \n",
       "Alaska                        463977.0            450443.0   \n",
       "American Samoa                 32662.0             33457.0   \n",
       "Arizona                      4165247.0           4062819.0   \n",
       "Arkansas                     1494256.0           1535063.0   \n",
       "...                                ...                 ...   \n",
       "Virginia                     5154652.0           4983632.0   \n",
       "Washington                   4517385.0           4348829.0   \n",
       "West Virginia                 943626.0            946695.0   \n",
       "Wisconsin                    3670565.0           3550754.0   \n",
       "Wyoming                       300755.0            295528.0   \n",
       "\n",
       "                daily_vaccinations_per_million  share_doses_used  \n",
       "location                                                          \n",
       "Alabama                               418506.0            53.399  \n",
       "Alaska                                615748.0            58.194  \n",
       "American Samoa                        600780.0            50.930  \n",
       "Arizona                               558182.0            64.804  \n",
       "Arkansas                              508670.0            59.375  \n",
       "...                                        ...               ...  \n",
       "Virginia                              583864.0            67.270  \n",
       "Washington                            571097.0            65.843  \n",
       "West Virginia                         528245.0            73.455  \n",
       "Wisconsin                             609840.0            70.124  \n",
       "Wyoming                               510619.0            61.603  \n",
       "\n",
       "[65 rows x 12 columns]"
      ]
     },
     "execution_count": 12,
     "metadata": {},
     "output_type": "execute_result"
    }
   ],
   "source": [
    "covid.groupby([\"location\"]).sum()"
   ]
  },
  {
   "cell_type": "code",
   "execution_count": 13,
   "metadata": {
    "execution": {
     "iopub.execute_input": "2021-04-16T19:55:16.657992Z",
     "iopub.status.busy": "2021-04-16T19:55:16.657305Z",
     "iopub.status.idle": "2021-04-16T19:55:16.664568Z",
     "shell.execute_reply": "2021-04-16T19:55:16.665087Z"
    },
    "papermill": {
     "duration": 0.043261,
     "end_time": "2021-04-16T19:55:16.665277",
     "exception": false,
     "start_time": "2021-04-16T19:55:16.622016",
     "status": "completed"
    },
    "tags": []
   },
   "outputs": [
    {
     "data": {
      "text/plain": [
       "['Alabama',\n",
       " 'Alaska',\n",
       " 'American Samoa',\n",
       " 'Arizona',\n",
       " 'Arkansas',\n",
       " 'Bureau of Prisons',\n",
       " 'California',\n",
       " 'Colorado',\n",
       " 'Connecticut',\n",
       " 'Delaware',\n",
       " 'Dept of Defense',\n",
       " 'District of Columbia',\n",
       " 'Federated States of Micronesia',\n",
       " 'Florida',\n",
       " 'Georgia',\n",
       " 'Guam',\n",
       " 'Hawaii',\n",
       " 'Idaho',\n",
       " 'Illinois',\n",
       " 'Indian Health Svc',\n",
       " 'Indiana',\n",
       " 'Iowa',\n",
       " 'Kansas',\n",
       " 'Kentucky',\n",
       " 'Long Term Care',\n",
       " 'Louisiana',\n",
       " 'Maine',\n",
       " 'Marshall Islands',\n",
       " 'Maryland',\n",
       " 'Massachusetts',\n",
       " 'Michigan',\n",
       " 'Minnesota',\n",
       " 'Mississippi',\n",
       " 'Missouri',\n",
       " 'Montana',\n",
       " 'Nebraska',\n",
       " 'Nevada',\n",
       " 'New Hampshire',\n",
       " 'New Jersey',\n",
       " 'New Mexico',\n",
       " 'New York State',\n",
       " 'North Carolina',\n",
       " 'North Dakota',\n",
       " 'Northern Mariana Islands',\n",
       " 'Ohio',\n",
       " 'Oklahoma',\n",
       " 'Oregon',\n",
       " 'Pennsylvania',\n",
       " 'Puerto Rico',\n",
       " 'Republic of Palau',\n",
       " 'Rhode Island',\n",
       " 'South Carolina',\n",
       " 'South Dakota',\n",
       " 'Tennessee',\n",
       " 'Texas',\n",
       " 'United States',\n",
       " 'Utah',\n",
       " 'Vermont',\n",
       " 'Veterans Health',\n",
       " 'Virgin Islands',\n",
       " 'Virginia',\n",
       " 'Washington',\n",
       " 'West Virginia',\n",
       " 'Wisconsin',\n",
       " 'Wyoming']"
      ]
     },
     "execution_count": 13,
     "metadata": {},
     "output_type": "execute_result"
    }
   ],
   "source": [
    "fake_states = covid.location.unique()\n",
    "fake_states = fake_states.tolist()\n",
    "fake_states"
   ]
  },
  {
   "cell_type": "code",
   "execution_count": 14,
   "metadata": {
    "execution": {
     "iopub.execute_input": "2021-04-16T19:55:16.734402Z",
     "iopub.status.busy": "2021-04-16T19:55:16.733751Z",
     "iopub.status.idle": "2021-04-16T19:55:16.739238Z",
     "shell.execute_reply": "2021-04-16T19:55:16.739898Z"
    },
    "papermill": {
     "duration": 0.041814,
     "end_time": "2021-04-16T19:55:16.740063",
     "exception": false,
     "start_time": "2021-04-16T19:55:16.698249",
     "status": "completed"
    },
    "tags": []
   },
   "outputs": [
    {
     "data": {
      "text/plain": [
       "65"
      ]
     },
     "execution_count": 14,
     "metadata": {},
     "output_type": "execute_result"
    }
   ],
   "source": [
    "len(covid.location.unique())"
   ]
  },
  {
   "cell_type": "markdown",
   "metadata": {
    "papermill": {
     "duration": 0.033275,
     "end_time": "2021-04-16T19:55:16.806791",
     "exception": false,
     "start_time": "2021-04-16T19:55:16.773516",
     "status": "completed"
    },
    "tags": []
   },
   "source": [
    "It seems that there are a few more \"states\" listed than are actually applicable according to a quick search there are 50 US states. Fun Fact Washington DC is actually a federal district. I've put together a list of the actual US states and will create a dataframe to continue working on from. \n",
    "\n",
    "https://uk.usembassy.gov/states-of-the-union-states-of-the-u-s/#:~:text=There%20are%20fifty%20(50)%20states,under%20the%20authority%20of%20Congress."
   ]
  },
  {
   "cell_type": "code",
   "execution_count": 15,
   "metadata": {
    "execution": {
     "iopub.execute_input": "2021-04-16T19:55:16.881510Z",
     "iopub.status.busy": "2021-04-16T19:55:16.880792Z",
     "iopub.status.idle": "2021-04-16T19:55:16.884200Z",
     "shell.execute_reply": "2021-04-16T19:55:16.884914Z"
    },
    "papermill": {
     "duration": 0.044996,
     "end_time": "2021-04-16T19:55:16.885139",
     "exception": false,
     "start_time": "2021-04-16T19:55:16.840143",
     "status": "completed"
    },
    "tags": []
   },
   "outputs": [
    {
     "name": "stdout",
     "output_type": "stream",
     "text": [
      "You're on the ball, keep going tiger\n"
     ]
    }
   ],
   "source": [
    "real_states = [\"Alabama\", \"Alaska\", \"Arizona\", \"Arkansas\", \"California\", \"Colorado\", \"Connecticut\", \"Delaware\", \"Florida\", \"Georgia\", \"Hawaii\", \"Idaho\", \"Illinois\", \"Indiana\", \"Iowa\", \"Kansas\", \"Kentucky\",\n",
    "               \"Louisiana\", \"Maine\", \"Maryland\", \"Massachusetts\", \"Michigan\", \"Minnesota\", \"Mississippi\", \"Missouri\", \"Montana\", \"Nebraska\", \"Nevada\", \"New Hampshire\", \"New Jersey\", \"New Mexico\", \"New York\", \"North Carolina\",\n",
    "               \"North Dakota\", \"Ohio\", \"Oklahoma\", \"Oregon\", \"Pennsylvania\", \"Rhode Island\", \"South Carolina\", \"South Dakota\", \"Tennessee\", \"Texas\", \"Utah\", \"Vermont\", \"Virginia\", \"Washington\", \"West Virginia\",\n",
    "               \"Wisconsin\", \"Wyoming\"]\n",
    "\n",
    "\n",
    "if len(real_states) == 50:\n",
    "    print(\"You're on the ball, keep going tiger\")\n"
   ]
  },
  {
   "cell_type": "code",
   "execution_count": 16,
   "metadata": {
    "execution": {
     "iopub.execute_input": "2021-04-16T19:55:16.980967Z",
     "iopub.status.busy": "2021-04-16T19:55:16.959921Z",
     "iopub.status.idle": "2021-04-16T19:55:16.984395Z",
     "shell.execute_reply": "2021-04-16T19:55:16.984846Z"
    },
    "papermill": {
     "duration": 0.064776,
     "end_time": "2021-04-16T19:55:16.985025",
     "exception": false,
     "start_time": "2021-04-16T19:55:16.920249",
     "status": "completed"
    },
    "tags": []
   },
   "outputs": [
    {
     "data": {
      "text/html": [
       "<div>\n",
       "<style scoped>\n",
       "    .dataframe tbody tr th:only-of-type {\n",
       "        vertical-align: middle;\n",
       "    }\n",
       "\n",
       "    .dataframe tbody tr th {\n",
       "        vertical-align: top;\n",
       "    }\n",
       "\n",
       "    .dataframe thead th {\n",
       "        text-align: right;\n",
       "    }\n",
       "</style>\n",
       "<table border=\"1\" class=\"dataframe\">\n",
       "  <thead>\n",
       "    <tr style=\"text-align: right;\">\n",
       "      <th></th>\n",
       "      <th>date</th>\n",
       "      <th>location</th>\n",
       "      <th>total_vaccinations</th>\n",
       "      <th>total_distributed</th>\n",
       "      <th>people_vaccinated</th>\n",
       "      <th>people_fully_vaccinated_per_hundred</th>\n",
       "      <th>total_vaccinations_per_hundred</th>\n",
       "      <th>people_fully_vaccinated</th>\n",
       "      <th>people_vaccinated_per_hundred</th>\n",
       "      <th>distributed_per_hundred</th>\n",
       "      <th>daily_vaccinations_raw</th>\n",
       "      <th>daily_vaccinations</th>\n",
       "      <th>daily_vaccinations_per_million</th>\n",
       "      <th>share_doses_used</th>\n",
       "    </tr>\n",
       "  </thead>\n",
       "  <tbody>\n",
       "    <tr>\n",
       "      <th>0</th>\n",
       "      <td>2021-01-12</td>\n",
       "      <td>Alabama</td>\n",
       "      <td>78134.0</td>\n",
       "      <td>377025.0</td>\n",
       "      <td>70861.0</td>\n",
       "      <td>0.15</td>\n",
       "      <td>1.59</td>\n",
       "      <td>7270.0</td>\n",
       "      <td>1.45</td>\n",
       "      <td>7.69</td>\n",
       "      <td>NaN</td>\n",
       "      <td>NaN</td>\n",
       "      <td>NaN</td>\n",
       "      <td>0.207</td>\n",
       "    </tr>\n",
       "    <tr>\n",
       "      <th>1</th>\n",
       "      <td>2021-01-13</td>\n",
       "      <td>Alabama</td>\n",
       "      <td>84040.0</td>\n",
       "      <td>378975.0</td>\n",
       "      <td>74792.0</td>\n",
       "      <td>0.19</td>\n",
       "      <td>1.71</td>\n",
       "      <td>9245.0</td>\n",
       "      <td>1.53</td>\n",
       "      <td>7.73</td>\n",
       "      <td>5906.0</td>\n",
       "      <td>5906.0</td>\n",
       "      <td>1205.0</td>\n",
       "      <td>0.222</td>\n",
       "    </tr>\n",
       "    <tr>\n",
       "      <th>2</th>\n",
       "      <td>2021-01-14</td>\n",
       "      <td>Alabama</td>\n",
       "      <td>92300.0</td>\n",
       "      <td>435350.0</td>\n",
       "      <td>80480.0</td>\n",
       "      <td>NaN</td>\n",
       "      <td>1.88</td>\n",
       "      <td>NaN</td>\n",
       "      <td>1.64</td>\n",
       "      <td>8.88</td>\n",
       "      <td>8260.0</td>\n",
       "      <td>7083.0</td>\n",
       "      <td>1445.0</td>\n",
       "      <td>0.212</td>\n",
       "    </tr>\n",
       "    <tr>\n",
       "      <th>3</th>\n",
       "      <td>2021-01-15</td>\n",
       "      <td>Alabama</td>\n",
       "      <td>100567.0</td>\n",
       "      <td>444650.0</td>\n",
       "      <td>86956.0</td>\n",
       "      <td>0.28</td>\n",
       "      <td>2.05</td>\n",
       "      <td>13488.0</td>\n",
       "      <td>1.77</td>\n",
       "      <td>9.07</td>\n",
       "      <td>8267.0</td>\n",
       "      <td>7478.0</td>\n",
       "      <td>1525.0</td>\n",
       "      <td>0.226</td>\n",
       "    </tr>\n",
       "    <tr>\n",
       "      <th>4</th>\n",
       "      <td>2021-01-16</td>\n",
       "      <td>Alabama</td>\n",
       "      <td>NaN</td>\n",
       "      <td>NaN</td>\n",
       "      <td>NaN</td>\n",
       "      <td>NaN</td>\n",
       "      <td>NaN</td>\n",
       "      <td>NaN</td>\n",
       "      <td>NaN</td>\n",
       "      <td>NaN</td>\n",
       "      <td>7557.0</td>\n",
       "      <td>7498.0</td>\n",
       "      <td>1529.0</td>\n",
       "      <td>NaN</td>\n",
       "    </tr>\n",
       "  </tbody>\n",
       "</table>\n",
       "</div>"
      ],
      "text/plain": [
       "         date location  total_vaccinations  total_distributed  \\\n",
       "0  2021-01-12  Alabama             78134.0           377025.0   \n",
       "1  2021-01-13  Alabama             84040.0           378975.0   \n",
       "2  2021-01-14  Alabama             92300.0           435350.0   \n",
       "3  2021-01-15  Alabama            100567.0           444650.0   \n",
       "4  2021-01-16  Alabama                 NaN                NaN   \n",
       "\n",
       "   people_vaccinated  people_fully_vaccinated_per_hundred  \\\n",
       "0            70861.0                                 0.15   \n",
       "1            74792.0                                 0.19   \n",
       "2            80480.0                                  NaN   \n",
       "3            86956.0                                 0.28   \n",
       "4                NaN                                  NaN   \n",
       "\n",
       "   total_vaccinations_per_hundred  people_fully_vaccinated  \\\n",
       "0                            1.59                   7270.0   \n",
       "1                            1.71                   9245.0   \n",
       "2                            1.88                      NaN   \n",
       "3                            2.05                  13488.0   \n",
       "4                             NaN                      NaN   \n",
       "\n",
       "   people_vaccinated_per_hundred  distributed_per_hundred  \\\n",
       "0                           1.45                     7.69   \n",
       "1                           1.53                     7.73   \n",
       "2                           1.64                     8.88   \n",
       "3                           1.77                     9.07   \n",
       "4                            NaN                      NaN   \n",
       "\n",
       "   daily_vaccinations_raw  daily_vaccinations  daily_vaccinations_per_million  \\\n",
       "0                     NaN                 NaN                             NaN   \n",
       "1                  5906.0              5906.0                          1205.0   \n",
       "2                  8260.0              7083.0                          1445.0   \n",
       "3                  8267.0              7478.0                          1525.0   \n",
       "4                  7557.0              7498.0                          1529.0   \n",
       "\n",
       "   share_doses_used  \n",
       "0             0.207  \n",
       "1             0.222  \n",
       "2             0.212  \n",
       "3             0.226  \n",
       "4               NaN  "
      ]
     },
     "execution_count": 16,
     "metadata": {},
     "output_type": "execute_result"
    }
   ],
   "source": [
    "coviddf = covid.location.isin(real_states)\n",
    "filtered = covid[coviddf]\n",
    "filtered.head()"
   ]
  },
  {
   "cell_type": "code",
   "execution_count": 17,
   "metadata": {
    "execution": {
     "iopub.execute_input": "2021-04-16T19:55:17.058798Z",
     "iopub.status.busy": "2021-04-16T19:55:17.058067Z",
     "iopub.status.idle": "2021-04-16T19:55:17.069881Z",
     "shell.execute_reply": "2021-04-16T19:55:17.069243Z"
    },
    "papermill": {
     "duration": 0.050163,
     "end_time": "2021-04-16T19:55:17.070024",
     "exception": false,
     "start_time": "2021-04-16T19:55:17.019861",
     "status": "completed"
    },
    "tags": []
   },
   "outputs": [
    {
     "data": {
      "text/plain": [
       "Wisconsin         94\n",
       "Louisiana         94\n",
       "Utah              94\n",
       "Wyoming           94\n",
       "Mississippi       94\n",
       "South Carolina    94\n",
       "Oregon            94\n",
       "Tennessee         94\n",
       "Idaho             94\n",
       "New Hampshire     94\n",
       "Kentucky          94\n",
       "Ohio              94\n",
       "West Virginia     94\n",
       "Alaska            94\n",
       "Pennsylvania      94\n",
       "Missouri          94\n",
       "Arizona           94\n",
       "Maryland          94\n",
       "Florida           94\n",
       "Arkansas          94\n",
       "Alabama           94\n",
       "Nebraska          94\n",
       "Hawaii            94\n",
       "Nevada            94\n",
       "Rhode Island      94\n",
       "Illinois          94\n",
       "South Dakota      94\n",
       "Massachusetts     94\n",
       "New Jersey        94\n",
       "Vermont           94\n",
       "Kansas            94\n",
       "Georgia           94\n",
       "Colorado          94\n",
       "Minnesota         94\n",
       "North Carolina    94\n",
       "California        94\n",
       "Maine             94\n",
       "Virginia          94\n",
       "Texas             94\n",
       "Delaware          94\n",
       "Iowa              94\n",
       "Montana           94\n",
       "Indiana           94\n",
       "Michigan          94\n",
       "Washington        94\n",
       "Oklahoma          94\n",
       "New Mexico        94\n",
       "Connecticut       94\n",
       "North Dakota      94\n",
       "Name: location, dtype: int64"
      ]
     },
     "execution_count": 17,
     "metadata": {},
     "output_type": "execute_result"
    }
   ],
   "source": [
    "filtered.location.value_counts()"
   ]
  },
  {
   "cell_type": "code",
   "execution_count": 18,
   "metadata": {
    "execution": {
     "iopub.execute_input": "2021-04-16T19:55:17.152385Z",
     "iopub.status.busy": "2021-04-16T19:55:17.151555Z",
     "iopub.status.idle": "2021-04-16T19:55:17.156868Z",
     "shell.execute_reply": "2021-04-16T19:55:17.157359Z"
    },
    "papermill": {
     "duration": 0.052013,
     "end_time": "2021-04-16T19:55:17.157546",
     "exception": false,
     "start_time": "2021-04-16T19:55:17.105533",
     "status": "completed"
    },
    "tags": []
   },
   "outputs": [
    {
     "data": {
      "text/plain": [
       "2021-03-03    49\n",
       "2021-02-23    49\n",
       "2021-03-05    49\n",
       "2021-03-10    49\n",
       "2021-03-26    49\n",
       "              ..\n",
       "2021-03-21    49\n",
       "2021-02-13    49\n",
       "2021-03-22    49\n",
       "2021-01-25    49\n",
       "2021-03-29    49\n",
       "Name: date, Length: 94, dtype: int64"
      ]
     },
     "execution_count": 18,
     "metadata": {},
     "output_type": "execute_result"
    }
   ],
   "source": [
    "filtered.date.value_counts()"
   ]
  },
  {
   "cell_type": "code",
   "execution_count": 19,
   "metadata": {
    "execution": {
     "iopub.execute_input": "2021-04-16T19:55:17.240560Z",
     "iopub.status.busy": "2021-04-16T19:55:17.239880Z",
     "iopub.status.idle": "2021-04-16T19:55:17.244282Z",
     "shell.execute_reply": "2021-04-16T19:55:17.243656Z"
    },
    "papermill": {
     "duration": 0.047422,
     "end_time": "2021-04-16T19:55:17.244447",
     "exception": false,
     "start_time": "2021-04-16T19:55:17.197025",
     "status": "completed"
    },
    "tags": []
   },
   "outputs": [
    {
     "data": {
      "text/plain": [
       "94"
      ]
     },
     "execution_count": 19,
     "metadata": {},
     "output_type": "execute_result"
    }
   ],
   "source": [
    "filtered.date.value_counts().shape[0]"
   ]
  },
  {
   "cell_type": "code",
   "execution_count": 20,
   "metadata": {
    "execution": {
     "iopub.execute_input": "2021-04-16T19:55:17.324289Z",
     "iopub.status.busy": "2021-04-16T19:55:17.323638Z",
     "iopub.status.idle": "2021-04-16T19:55:17.328586Z",
     "shell.execute_reply": "2021-04-16T19:55:17.327980Z"
    },
    "papermill": {
     "duration": 0.048235,
     "end_time": "2021-04-16T19:55:17.328738",
     "exception": false,
     "start_time": "2021-04-16T19:55:17.280503",
     "status": "completed"
    },
    "tags": []
   },
   "outputs": [
    {
     "data": {
      "text/plain": [
       "49.0"
      ]
     },
     "execution_count": 20,
     "metadata": {},
     "output_type": "execute_result"
    }
   ],
   "source": [
    "filtered.shape[0] / filtered.date.value_counts().shape[0]"
   ]
  },
  {
   "cell_type": "markdown",
   "metadata": {
    "papermill": {
     "duration": 0.036467,
     "end_time": "2021-04-16T19:55:17.401851",
     "exception": false,
     "start_time": "2021-04-16T19:55:17.365384",
     "status": "completed"
    },
    "tags": []
   },
   "source": [
    "<a id = \"3\"></a><br>\n",
    "# Question 1 Working Out\n",
    "\n",
    "So far this is quite good news. There are 78 unique date stamps repeated 49 times across all columns so the data is nicely shaped.\n",
    "\n",
    "Time to move on to trying to answer one of the questions."
   ]
  },
  {
   "cell_type": "code",
   "execution_count": 21,
   "metadata": {
    "execution": {
     "iopub.execute_input": "2021-04-16T19:55:17.500580Z",
     "iopub.status.busy": "2021-04-16T19:55:17.499803Z",
     "iopub.status.idle": "2021-04-16T19:55:17.505170Z",
     "shell.execute_reply": "2021-04-16T19:55:17.504669Z"
    },
    "papermill": {
     "duration": 0.065413,
     "end_time": "2021-04-16T19:55:17.505334",
     "exception": false,
     "start_time": "2021-04-16T19:55:17.439921",
     "status": "completed"
    },
    "tags": []
   },
   "outputs": [
    {
     "data": {
      "text/html": [
       "<div>\n",
       "<style scoped>\n",
       "    .dataframe tbody tr th:only-of-type {\n",
       "        vertical-align: middle;\n",
       "    }\n",
       "\n",
       "    .dataframe tbody tr th {\n",
       "        vertical-align: top;\n",
       "    }\n",
       "\n",
       "    .dataframe thead th {\n",
       "        text-align: right;\n",
       "    }\n",
       "</style>\n",
       "<table border=\"1\" class=\"dataframe\">\n",
       "  <thead>\n",
       "    <tr style=\"text-align: right;\">\n",
       "      <th></th>\n",
       "      <th>date</th>\n",
       "      <th>location</th>\n",
       "      <th>total_vaccinations</th>\n",
       "      <th>total_distributed</th>\n",
       "      <th>people_vaccinated</th>\n",
       "      <th>people_fully_vaccinated_per_hundred</th>\n",
       "      <th>total_vaccinations_per_hundred</th>\n",
       "      <th>people_fully_vaccinated</th>\n",
       "      <th>people_vaccinated_per_hundred</th>\n",
       "      <th>distributed_per_hundred</th>\n",
       "      <th>daily_vaccinations_raw</th>\n",
       "      <th>daily_vaccinations</th>\n",
       "      <th>daily_vaccinations_per_million</th>\n",
       "      <th>share_doses_used</th>\n",
       "    </tr>\n",
       "  </thead>\n",
       "  <tbody>\n",
       "    <tr>\n",
       "      <th>0</th>\n",
       "      <td>2021-01-12</td>\n",
       "      <td>Alabama</td>\n",
       "      <td>78134.0</td>\n",
       "      <td>377025.0</td>\n",
       "      <td>70861.0</td>\n",
       "      <td>0.15</td>\n",
       "      <td>1.59</td>\n",
       "      <td>7270.0</td>\n",
       "      <td>1.45</td>\n",
       "      <td>7.69</td>\n",
       "      <td>NaN</td>\n",
       "      <td>NaN</td>\n",
       "      <td>NaN</td>\n",
       "      <td>0.207</td>\n",
       "    </tr>\n",
       "    <tr>\n",
       "      <th>1</th>\n",
       "      <td>2021-01-13</td>\n",
       "      <td>Alabama</td>\n",
       "      <td>84040.0</td>\n",
       "      <td>378975.0</td>\n",
       "      <td>74792.0</td>\n",
       "      <td>0.19</td>\n",
       "      <td>1.71</td>\n",
       "      <td>9245.0</td>\n",
       "      <td>1.53</td>\n",
       "      <td>7.73</td>\n",
       "      <td>5906.0</td>\n",
       "      <td>5906.0</td>\n",
       "      <td>1205.0</td>\n",
       "      <td>0.222</td>\n",
       "    </tr>\n",
       "    <tr>\n",
       "      <th>2</th>\n",
       "      <td>2021-01-14</td>\n",
       "      <td>Alabama</td>\n",
       "      <td>92300.0</td>\n",
       "      <td>435350.0</td>\n",
       "      <td>80480.0</td>\n",
       "      <td>NaN</td>\n",
       "      <td>1.88</td>\n",
       "      <td>NaN</td>\n",
       "      <td>1.64</td>\n",
       "      <td>8.88</td>\n",
       "      <td>8260.0</td>\n",
       "      <td>7083.0</td>\n",
       "      <td>1445.0</td>\n",
       "      <td>0.212</td>\n",
       "    </tr>\n",
       "    <tr>\n",
       "      <th>3</th>\n",
       "      <td>2021-01-15</td>\n",
       "      <td>Alabama</td>\n",
       "      <td>100567.0</td>\n",
       "      <td>444650.0</td>\n",
       "      <td>86956.0</td>\n",
       "      <td>0.28</td>\n",
       "      <td>2.05</td>\n",
       "      <td>13488.0</td>\n",
       "      <td>1.77</td>\n",
       "      <td>9.07</td>\n",
       "      <td>8267.0</td>\n",
       "      <td>7478.0</td>\n",
       "      <td>1525.0</td>\n",
       "      <td>0.226</td>\n",
       "    </tr>\n",
       "    <tr>\n",
       "      <th>4</th>\n",
       "      <td>2021-01-16</td>\n",
       "      <td>Alabama</td>\n",
       "      <td>NaN</td>\n",
       "      <td>NaN</td>\n",
       "      <td>NaN</td>\n",
       "      <td>NaN</td>\n",
       "      <td>NaN</td>\n",
       "      <td>NaN</td>\n",
       "      <td>NaN</td>\n",
       "      <td>NaN</td>\n",
       "      <td>7557.0</td>\n",
       "      <td>7498.0</td>\n",
       "      <td>1529.0</td>\n",
       "      <td>NaN</td>\n",
       "    </tr>\n",
       "  </tbody>\n",
       "</table>\n",
       "</div>"
      ],
      "text/plain": [
       "         date location  total_vaccinations  total_distributed  \\\n",
       "0  2021-01-12  Alabama             78134.0           377025.0   \n",
       "1  2021-01-13  Alabama             84040.0           378975.0   \n",
       "2  2021-01-14  Alabama             92300.0           435350.0   \n",
       "3  2021-01-15  Alabama            100567.0           444650.0   \n",
       "4  2021-01-16  Alabama                 NaN                NaN   \n",
       "\n",
       "   people_vaccinated  people_fully_vaccinated_per_hundred  \\\n",
       "0            70861.0                                 0.15   \n",
       "1            74792.0                                 0.19   \n",
       "2            80480.0                                  NaN   \n",
       "3            86956.0                                 0.28   \n",
       "4                NaN                                  NaN   \n",
       "\n",
       "   total_vaccinations_per_hundred  people_fully_vaccinated  \\\n",
       "0                            1.59                   7270.0   \n",
       "1                            1.71                   9245.0   \n",
       "2                            1.88                      NaN   \n",
       "3                            2.05                  13488.0   \n",
       "4                             NaN                      NaN   \n",
       "\n",
       "   people_vaccinated_per_hundred  distributed_per_hundred  \\\n",
       "0                           1.45                     7.69   \n",
       "1                           1.53                     7.73   \n",
       "2                           1.64                     8.88   \n",
       "3                           1.77                     9.07   \n",
       "4                            NaN                      NaN   \n",
       "\n",
       "   daily_vaccinations_raw  daily_vaccinations  daily_vaccinations_per_million  \\\n",
       "0                     NaN                 NaN                             NaN   \n",
       "1                  5906.0              5906.0                          1205.0   \n",
       "2                  8260.0              7083.0                          1445.0   \n",
       "3                  8267.0              7478.0                          1525.0   \n",
       "4                  7557.0              7498.0                          1529.0   \n",
       "\n",
       "   share_doses_used  \n",
       "0             0.207  \n",
       "1             0.222  \n",
       "2             0.212  \n",
       "3             0.226  \n",
       "4               NaN  "
      ]
     },
     "execution_count": 21,
     "metadata": {},
     "output_type": "execute_result"
    }
   ],
   "source": [
    "filtered.head()"
   ]
  },
  {
   "cell_type": "code",
   "execution_count": 22,
   "metadata": {
    "execution": {
     "iopub.execute_input": "2021-04-16T19:55:17.596691Z",
     "iopub.status.busy": "2021-04-16T19:55:17.595868Z",
     "iopub.status.idle": "2021-04-16T19:55:17.604240Z",
     "shell.execute_reply": "2021-04-16T19:55:17.605054Z"
    },
    "papermill": {
     "duration": 0.062318,
     "end_time": "2021-04-16T19:55:17.605313",
     "exception": false,
     "start_time": "2021-04-16T19:55:17.542995",
     "status": "completed"
    },
    "tags": []
   },
   "outputs": [
    {
     "data": {
      "text/html": [
       "<div>\n",
       "<style scoped>\n",
       "    .dataframe tbody tr th:only-of-type {\n",
       "        vertical-align: middle;\n",
       "    }\n",
       "\n",
       "    .dataframe tbody tr th {\n",
       "        vertical-align: top;\n",
       "    }\n",
       "\n",
       "    .dataframe thead th {\n",
       "        text-align: right;\n",
       "    }\n",
       "</style>\n",
       "<table border=\"1\" class=\"dataframe\">\n",
       "  <thead>\n",
       "    <tr style=\"text-align: right;\">\n",
       "      <th></th>\n",
       "      <th>location</th>\n",
       "      <th>total_distributed</th>\n",
       "    </tr>\n",
       "  </thead>\n",
       "  <tbody>\n",
       "    <tr>\n",
       "      <th>0</th>\n",
       "      <td>Alabama</td>\n",
       "      <td>377025.0</td>\n",
       "    </tr>\n",
       "    <tr>\n",
       "      <th>1</th>\n",
       "      <td>Alabama</td>\n",
       "      <td>378975.0</td>\n",
       "    </tr>\n",
       "    <tr>\n",
       "      <th>2</th>\n",
       "      <td>Alabama</td>\n",
       "      <td>435350.0</td>\n",
       "    </tr>\n",
       "    <tr>\n",
       "      <th>3</th>\n",
       "      <td>Alabama</td>\n",
       "      <td>444650.0</td>\n",
       "    </tr>\n",
       "    <tr>\n",
       "      <th>4</th>\n",
       "      <td>Alabama</td>\n",
       "      <td>NaN</td>\n",
       "    </tr>\n",
       "    <tr>\n",
       "      <th>...</th>\n",
       "      <td>...</td>\n",
       "      <td>...</td>\n",
       "    </tr>\n",
       "    <tr>\n",
       "      <th>6128</th>\n",
       "      <td>Wyoming</td>\n",
       "      <td>450525.0</td>\n",
       "    </tr>\n",
       "    <tr>\n",
       "      <th>6129</th>\n",
       "      <td>Wyoming</td>\n",
       "      <td>450525.0</td>\n",
       "    </tr>\n",
       "    <tr>\n",
       "      <th>6130</th>\n",
       "      <td>Wyoming</td>\n",
       "      <td>453025.0</td>\n",
       "    </tr>\n",
       "    <tr>\n",
       "      <th>6131</th>\n",
       "      <td>Wyoming</td>\n",
       "      <td>460205.0</td>\n",
       "    </tr>\n",
       "    <tr>\n",
       "      <th>6132</th>\n",
       "      <td>Wyoming</td>\n",
       "      <td>462605.0</td>\n",
       "    </tr>\n",
       "  </tbody>\n",
       "</table>\n",
       "<p>4606 rows × 2 columns</p>\n",
       "</div>"
      ],
      "text/plain": [
       "     location  total_distributed\n",
       "0     Alabama           377025.0\n",
       "1     Alabama           378975.0\n",
       "2     Alabama           435350.0\n",
       "3     Alabama           444650.0\n",
       "4     Alabama                NaN\n",
       "...       ...                ...\n",
       "6128  Wyoming           450525.0\n",
       "6129  Wyoming           450525.0\n",
       "6130  Wyoming           453025.0\n",
       "6131  Wyoming           460205.0\n",
       "6132  Wyoming           462605.0\n",
       "\n",
       "[4606 rows x 2 columns]"
      ]
     },
     "execution_count": 22,
     "metadata": {},
     "output_type": "execute_result"
    }
   ],
   "source": [
    "QA = filtered[[\"location\", \"total_distributed\"]]\n",
    "QA"
   ]
  },
  {
   "cell_type": "code",
   "execution_count": 23,
   "metadata": {
    "execution": {
     "iopub.execute_input": "2021-04-16T19:55:17.700739Z",
     "iopub.status.busy": "2021-04-16T19:55:17.699777Z",
     "iopub.status.idle": "2021-04-16T19:55:17.718141Z",
     "shell.execute_reply": "2021-04-16T19:55:17.717518Z"
    },
    "papermill": {
     "duration": 0.067178,
     "end_time": "2021-04-16T19:55:17.718328",
     "exception": false,
     "start_time": "2021-04-16T19:55:17.651150",
     "status": "completed"
    },
    "tags": []
   },
   "outputs": [
    {
     "data": {
      "text/html": [
       "<div>\n",
       "<style scoped>\n",
       "    .dataframe tbody tr th:only-of-type {\n",
       "        vertical-align: middle;\n",
       "    }\n",
       "\n",
       "    .dataframe tbody tr th {\n",
       "        vertical-align: top;\n",
       "    }\n",
       "\n",
       "    .dataframe thead th {\n",
       "        text-align: right;\n",
       "    }\n",
       "</style>\n",
       "<table border=\"1\" class=\"dataframe\">\n",
       "  <thead>\n",
       "    <tr style=\"text-align: right;\">\n",
       "      <th></th>\n",
       "      <th>location</th>\n",
       "      <th>total_distributed</th>\n",
       "    </tr>\n",
       "  </thead>\n",
       "  <tbody>\n",
       "    <tr>\n",
       "      <th>6039</th>\n",
       "      <td>Wyoming</td>\n",
       "      <td>47800.0</td>\n",
       "    </tr>\n",
       "    <tr>\n",
       "      <th>3948</th>\n",
       "      <td>North Dakota</td>\n",
       "      <td>53525.0</td>\n",
       "    </tr>\n",
       "    <tr>\n",
       "      <th>6040</th>\n",
       "      <td>Wyoming</td>\n",
       "      <td>57800.0</td>\n",
       "    </tr>\n",
       "    <tr>\n",
       "      <th>6046</th>\n",
       "      <td>Wyoming</td>\n",
       "      <td>58775.0</td>\n",
       "    </tr>\n",
       "    <tr>\n",
       "      <th>6042</th>\n",
       "      <td>Wyoming</td>\n",
       "      <td>58775.0</td>\n",
       "    </tr>\n",
       "    <tr>\n",
       "      <th>6041</th>\n",
       "      <td>Wyoming</td>\n",
       "      <td>58775.0</td>\n",
       "    </tr>\n",
       "    <tr>\n",
       "      <th>6047</th>\n",
       "      <td>Wyoming</td>\n",
       "      <td>62575.0</td>\n",
       "    </tr>\n",
       "    <tr>\n",
       "      <th>5381</th>\n",
       "      <td>Vermont</td>\n",
       "      <td>64925.0</td>\n",
       "    </tr>\n",
       "    <tr>\n",
       "      <th>3949</th>\n",
       "      <td>North Dakota</td>\n",
       "      <td>66725.0</td>\n",
       "    </tr>\n",
       "    <tr>\n",
       "      <th>6048</th>\n",
       "      <td>Wyoming</td>\n",
       "      <td>67450.0</td>\n",
       "    </tr>\n",
       "  </tbody>\n",
       "</table>\n",
       "</div>"
      ],
      "text/plain": [
       "          location  total_distributed\n",
       "6039       Wyoming            47800.0\n",
       "3948  North Dakota            53525.0\n",
       "6040       Wyoming            57800.0\n",
       "6046       Wyoming            58775.0\n",
       "6042       Wyoming            58775.0\n",
       "6041       Wyoming            58775.0\n",
       "6047       Wyoming            62575.0\n",
       "5381       Vermont            64925.0\n",
       "3949  North Dakota            66725.0\n",
       "6048       Wyoming            67450.0"
      ]
     },
     "execution_count": 23,
     "metadata": {},
     "output_type": "execute_result"
    }
   ],
   "source": [
    "QA.sort_values(by=\"total_distributed\").head(10)"
   ]
  },
  {
   "cell_type": "markdown",
   "metadata": {
    "papermill": {
     "duration": 0.039636,
     "end_time": "2021-04-16T19:55:17.798434",
     "exception": false,
     "start_time": "2021-04-16T19:55:17.758798",
     "status": "completed"
    },
    "tags": []
   },
   "source": [
    "By using max() in a groupby i will be able to grab the highest and therefore latest values in the timeseries of events. Naturally if there are 10 more vaccines distributed than yesterday, the latest value will always be the highest, it wont be able to go down."
   ]
  },
  {
   "cell_type": "code",
   "execution_count": 24,
   "metadata": {
    "execution": {
     "iopub.execute_input": "2021-04-16T19:55:17.906657Z",
     "iopub.status.busy": "2021-04-16T19:55:17.905930Z",
     "iopub.status.idle": "2021-04-16T19:55:17.919126Z",
     "shell.execute_reply": "2021-04-16T19:55:17.919613Z"
    },
    "papermill": {
     "duration": 0.070784,
     "end_time": "2021-04-16T19:55:17.919811",
     "exception": false,
     "start_time": "2021-04-16T19:55:17.849027",
     "status": "completed"
    },
    "tags": []
   },
   "outputs": [
    {
     "data": {
      "text/html": [
       "<div>\n",
       "<style scoped>\n",
       "    .dataframe tbody tr th:only-of-type {\n",
       "        vertical-align: middle;\n",
       "    }\n",
       "\n",
       "    .dataframe tbody tr th {\n",
       "        vertical-align: top;\n",
       "    }\n",
       "\n",
       "    .dataframe thead th {\n",
       "        text-align: right;\n",
       "    }\n",
       "</style>\n",
       "<table border=\"1\" class=\"dataframe\">\n",
       "  <thead>\n",
       "    <tr style=\"text-align: right;\">\n",
       "      <th></th>\n",
       "      <th>total_distributed</th>\n",
       "    </tr>\n",
       "    <tr>\n",
       "      <th>location</th>\n",
       "      <th></th>\n",
       "    </tr>\n",
       "  </thead>\n",
       "  <tbody>\n",
       "    <tr>\n",
       "      <th>California</th>\n",
       "      <td>31427050.0</td>\n",
       "    </tr>\n",
       "    <tr>\n",
       "      <th>Texas</th>\n",
       "      <td>20813575.0</td>\n",
       "    </tr>\n",
       "    <tr>\n",
       "      <th>Florida</th>\n",
       "      <td>17004215.0</td>\n",
       "    </tr>\n",
       "    <tr>\n",
       "      <th>Pennsylvania</th>\n",
       "      <td>10204085.0</td>\n",
       "    </tr>\n",
       "    <tr>\n",
       "      <th>Illinois</th>\n",
       "      <td>9951575.0</td>\n",
       "    </tr>\n",
       "    <tr>\n",
       "      <th>Ohio</th>\n",
       "      <td>9005615.0</td>\n",
       "    </tr>\n",
       "    <tr>\n",
       "      <th>North Carolina</th>\n",
       "      <td>7895410.0</td>\n",
       "    </tr>\n",
       "    <tr>\n",
       "      <th>Georgia</th>\n",
       "      <td>7828695.0</td>\n",
       "    </tr>\n",
       "    <tr>\n",
       "      <th>Michigan</th>\n",
       "      <td>7657840.0</td>\n",
       "    </tr>\n",
       "    <tr>\n",
       "      <th>New Jersey</th>\n",
       "      <td>6902305.0</td>\n",
       "    </tr>\n",
       "  </tbody>\n",
       "</table>\n",
       "</div>"
      ],
      "text/plain": [
       "                total_distributed\n",
       "location                         \n",
       "California             31427050.0\n",
       "Texas                  20813575.0\n",
       "Florida                17004215.0\n",
       "Pennsylvania           10204085.0\n",
       "Illinois                9951575.0\n",
       "Ohio                    9005615.0\n",
       "North Carolina          7895410.0\n",
       "Georgia                 7828695.0\n",
       "Michigan                7657840.0\n",
       "New Jersey              6902305.0"
      ]
     },
     "execution_count": 24,
     "metadata": {},
     "output_type": "execute_result"
    }
   ],
   "source": [
    "Q2 = QA.groupby(by=\"location\").max().sort_values(by=\"total_distributed\",ascending=False)\n",
    "Q2.head(10)"
   ]
  },
  {
   "cell_type": "markdown",
   "metadata": {
    "papermill": {
     "duration": 0.039808,
     "end_time": "2021-04-16T19:55:17.999699",
     "exception": false,
     "start_time": "2021-04-16T19:55:17.959891",
     "status": "completed"
    },
    "tags": []
   },
   "source": [
    "<a id = \"4\"></a><br>\n",
    "# Q1 Answer\n",
    "Answering the question: \"(A) a list of the top 10 states that distributed the most vaccines total.\"\n",
    "Yields this list: \n",
    "1. California\n",
    "2. Texas\n",
    "3. Florida\n",
    "4. Pennysylvania\n",
    "5. Illinois\n",
    "6. Ohio\n",
    "7. North Carolina\n",
    "8. Georgia\n",
    "9. Michigan\n",
    "10. New Jersey"
   ]
  },
  {
   "cell_type": "markdown",
   "metadata": {
    "papermill": {
     "duration": 0.039033,
     "end_time": "2021-04-16T19:55:18.078434",
     "exception": false,
     "start_time": "2021-04-16T19:55:18.039401",
     "status": "completed"
    },
    "tags": []
   },
   "source": [
    "<a id = \"5\"></a><br>\n",
    "# Q2 Working Out\n",
    "In order to find the top ten states of distribution per capita, i can use the distribution per 100 column and divide it by 100 in order to arrive at the per capita amount. \n",
    "Realistically, dividing it by 100 or just leaving it as it is will still yield the same top 10 results. I will however do the division as i will be able to generate a per person value."
   ]
  },
  {
   "cell_type": "code",
   "execution_count": 25,
   "metadata": {
    "execution": {
     "iopub.execute_input": "2021-04-16T19:55:18.164680Z",
     "iopub.status.busy": "2021-04-16T19:55:18.163705Z",
     "iopub.status.idle": "2021-04-16T19:55:18.187404Z",
     "shell.execute_reply": "2021-04-16T19:55:18.187965Z"
    },
    "papermill": {
     "duration": 0.069198,
     "end_time": "2021-04-16T19:55:18.188159",
     "exception": false,
     "start_time": "2021-04-16T19:55:18.118961",
     "status": "completed"
    },
    "tags": []
   },
   "outputs": [
    {
     "data": {
      "text/html": [
       "<div>\n",
       "<style scoped>\n",
       "    .dataframe tbody tr th:only-of-type {\n",
       "        vertical-align: middle;\n",
       "    }\n",
       "\n",
       "    .dataframe tbody tr th {\n",
       "        vertical-align: top;\n",
       "    }\n",
       "\n",
       "    .dataframe thead th {\n",
       "        text-align: right;\n",
       "    }\n",
       "</style>\n",
       "<table border=\"1\" class=\"dataframe\">\n",
       "  <thead>\n",
       "    <tr style=\"text-align: right;\">\n",
       "      <th></th>\n",
       "      <th>date</th>\n",
       "      <th>location</th>\n",
       "      <th>total_vaccinations</th>\n",
       "      <th>total_distributed</th>\n",
       "      <th>people_vaccinated</th>\n",
       "      <th>people_fully_vaccinated_per_hundred</th>\n",
       "      <th>total_vaccinations_per_hundred</th>\n",
       "      <th>people_fully_vaccinated</th>\n",
       "      <th>people_vaccinated_per_hundred</th>\n",
       "      <th>distributed_per_hundred</th>\n",
       "      <th>daily_vaccinations_raw</th>\n",
       "      <th>daily_vaccinations</th>\n",
       "      <th>daily_vaccinations_per_million</th>\n",
       "      <th>share_doses_used</th>\n",
       "    </tr>\n",
       "  </thead>\n",
       "  <tbody>\n",
       "    <tr>\n",
       "      <th>0</th>\n",
       "      <td>2021-01-12</td>\n",
       "      <td>Alabama</td>\n",
       "      <td>78134.0</td>\n",
       "      <td>377025.0</td>\n",
       "      <td>70861.0</td>\n",
       "      <td>0.15</td>\n",
       "      <td>1.59</td>\n",
       "      <td>7270.0</td>\n",
       "      <td>1.45</td>\n",
       "      <td>7.69</td>\n",
       "      <td>NaN</td>\n",
       "      <td>NaN</td>\n",
       "      <td>NaN</td>\n",
       "      <td>0.207</td>\n",
       "    </tr>\n",
       "    <tr>\n",
       "      <th>1</th>\n",
       "      <td>2021-01-13</td>\n",
       "      <td>Alabama</td>\n",
       "      <td>84040.0</td>\n",
       "      <td>378975.0</td>\n",
       "      <td>74792.0</td>\n",
       "      <td>0.19</td>\n",
       "      <td>1.71</td>\n",
       "      <td>9245.0</td>\n",
       "      <td>1.53</td>\n",
       "      <td>7.73</td>\n",
       "      <td>5906.0</td>\n",
       "      <td>5906.0</td>\n",
       "      <td>1205.0</td>\n",
       "      <td>0.222</td>\n",
       "    </tr>\n",
       "    <tr>\n",
       "      <th>2</th>\n",
       "      <td>2021-01-14</td>\n",
       "      <td>Alabama</td>\n",
       "      <td>92300.0</td>\n",
       "      <td>435350.0</td>\n",
       "      <td>80480.0</td>\n",
       "      <td>NaN</td>\n",
       "      <td>1.88</td>\n",
       "      <td>NaN</td>\n",
       "      <td>1.64</td>\n",
       "      <td>8.88</td>\n",
       "      <td>8260.0</td>\n",
       "      <td>7083.0</td>\n",
       "      <td>1445.0</td>\n",
       "      <td>0.212</td>\n",
       "    </tr>\n",
       "    <tr>\n",
       "      <th>3</th>\n",
       "      <td>2021-01-15</td>\n",
       "      <td>Alabama</td>\n",
       "      <td>100567.0</td>\n",
       "      <td>444650.0</td>\n",
       "      <td>86956.0</td>\n",
       "      <td>0.28</td>\n",
       "      <td>2.05</td>\n",
       "      <td>13488.0</td>\n",
       "      <td>1.77</td>\n",
       "      <td>9.07</td>\n",
       "      <td>8267.0</td>\n",
       "      <td>7478.0</td>\n",
       "      <td>1525.0</td>\n",
       "      <td>0.226</td>\n",
       "    </tr>\n",
       "    <tr>\n",
       "      <th>4</th>\n",
       "      <td>2021-01-16</td>\n",
       "      <td>Alabama</td>\n",
       "      <td>NaN</td>\n",
       "      <td>NaN</td>\n",
       "      <td>NaN</td>\n",
       "      <td>NaN</td>\n",
       "      <td>NaN</td>\n",
       "      <td>NaN</td>\n",
       "      <td>NaN</td>\n",
       "      <td>NaN</td>\n",
       "      <td>7557.0</td>\n",
       "      <td>7498.0</td>\n",
       "      <td>1529.0</td>\n",
       "      <td>NaN</td>\n",
       "    </tr>\n",
       "  </tbody>\n",
       "</table>\n",
       "</div>"
      ],
      "text/plain": [
       "         date location  total_vaccinations  total_distributed  \\\n",
       "0  2021-01-12  Alabama             78134.0           377025.0   \n",
       "1  2021-01-13  Alabama             84040.0           378975.0   \n",
       "2  2021-01-14  Alabama             92300.0           435350.0   \n",
       "3  2021-01-15  Alabama            100567.0           444650.0   \n",
       "4  2021-01-16  Alabama                 NaN                NaN   \n",
       "\n",
       "   people_vaccinated  people_fully_vaccinated_per_hundred  \\\n",
       "0            70861.0                                 0.15   \n",
       "1            74792.0                                 0.19   \n",
       "2            80480.0                                  NaN   \n",
       "3            86956.0                                 0.28   \n",
       "4                NaN                                  NaN   \n",
       "\n",
       "   total_vaccinations_per_hundred  people_fully_vaccinated  \\\n",
       "0                            1.59                   7270.0   \n",
       "1                            1.71                   9245.0   \n",
       "2                            1.88                      NaN   \n",
       "3                            2.05                  13488.0   \n",
       "4                             NaN                      NaN   \n",
       "\n",
       "   people_vaccinated_per_hundred  distributed_per_hundred  \\\n",
       "0                           1.45                     7.69   \n",
       "1                           1.53                     7.73   \n",
       "2                           1.64                     8.88   \n",
       "3                           1.77                     9.07   \n",
       "4                            NaN                      NaN   \n",
       "\n",
       "   daily_vaccinations_raw  daily_vaccinations  daily_vaccinations_per_million  \\\n",
       "0                     NaN                 NaN                             NaN   \n",
       "1                  5906.0              5906.0                          1205.0   \n",
       "2                  8260.0              7083.0                          1445.0   \n",
       "3                  8267.0              7478.0                          1525.0   \n",
       "4                  7557.0              7498.0                          1529.0   \n",
       "\n",
       "   share_doses_used  \n",
       "0             0.207  \n",
       "1             0.222  \n",
       "2             0.212  \n",
       "3             0.226  \n",
       "4               NaN  "
      ]
     },
     "execution_count": 25,
     "metadata": {},
     "output_type": "execute_result"
    }
   ],
   "source": [
    "filtered.head()"
   ]
  },
  {
   "cell_type": "code",
   "execution_count": 26,
   "metadata": {
    "execution": {
     "iopub.execute_input": "2021-04-16T19:55:18.273101Z",
     "iopub.status.busy": "2021-04-16T19:55:18.272015Z",
     "iopub.status.idle": "2021-04-16T19:55:18.287953Z",
     "shell.execute_reply": "2021-04-16T19:55:18.287246Z"
    },
    "papermill": {
     "duration": 0.059318,
     "end_time": "2021-04-16T19:55:18.288106",
     "exception": false,
     "start_time": "2021-04-16T19:55:18.228788",
     "status": "completed"
    },
    "tags": []
   },
   "outputs": [
    {
     "data": {
      "text/html": [
       "<div>\n",
       "<style scoped>\n",
       "    .dataframe tbody tr th:only-of-type {\n",
       "        vertical-align: middle;\n",
       "    }\n",
       "\n",
       "    .dataframe tbody tr th {\n",
       "        vertical-align: top;\n",
       "    }\n",
       "\n",
       "    .dataframe thead th {\n",
       "        text-align: right;\n",
       "    }\n",
       "</style>\n",
       "<table border=\"1\" class=\"dataframe\">\n",
       "  <thead>\n",
       "    <tr style=\"text-align: right;\">\n",
       "      <th></th>\n",
       "      <th>location</th>\n",
       "      <th>distributed_per_hundred</th>\n",
       "    </tr>\n",
       "  </thead>\n",
       "  <tbody>\n",
       "    <tr>\n",
       "      <th>0</th>\n",
       "      <td>Alabama</td>\n",
       "      <td>7.69</td>\n",
       "    </tr>\n",
       "    <tr>\n",
       "      <th>1</th>\n",
       "      <td>Alabama</td>\n",
       "      <td>7.73</td>\n",
       "    </tr>\n",
       "    <tr>\n",
       "      <th>2</th>\n",
       "      <td>Alabama</td>\n",
       "      <td>8.88</td>\n",
       "    </tr>\n",
       "    <tr>\n",
       "      <th>3</th>\n",
       "      <td>Alabama</td>\n",
       "      <td>9.07</td>\n",
       "    </tr>\n",
       "    <tr>\n",
       "      <th>4</th>\n",
       "      <td>Alabama</td>\n",
       "      <td>NaN</td>\n",
       "    </tr>\n",
       "    <tr>\n",
       "      <th>...</th>\n",
       "      <td>...</td>\n",
       "      <td>...</td>\n",
       "    </tr>\n",
       "    <tr>\n",
       "      <th>6128</th>\n",
       "      <td>Wyoming</td>\n",
       "      <td>77.84</td>\n",
       "    </tr>\n",
       "    <tr>\n",
       "      <th>6129</th>\n",
       "      <td>Wyoming</td>\n",
       "      <td>77.84</td>\n",
       "    </tr>\n",
       "    <tr>\n",
       "      <th>6130</th>\n",
       "      <td>Wyoming</td>\n",
       "      <td>78.28</td>\n",
       "    </tr>\n",
       "    <tr>\n",
       "      <th>6131</th>\n",
       "      <td>Wyoming</td>\n",
       "      <td>79.52</td>\n",
       "    </tr>\n",
       "    <tr>\n",
       "      <th>6132</th>\n",
       "      <td>Wyoming</td>\n",
       "      <td>79.93</td>\n",
       "    </tr>\n",
       "  </tbody>\n",
       "</table>\n",
       "<p>4606 rows × 2 columns</p>\n",
       "</div>"
      ],
      "text/plain": [
       "     location  distributed_per_hundred\n",
       "0     Alabama                     7.69\n",
       "1     Alabama                     7.73\n",
       "2     Alabama                     8.88\n",
       "3     Alabama                     9.07\n",
       "4     Alabama                      NaN\n",
       "...       ...                      ...\n",
       "6128  Wyoming                    77.84\n",
       "6129  Wyoming                    77.84\n",
       "6130  Wyoming                    78.28\n",
       "6131  Wyoming                    79.52\n",
       "6132  Wyoming                    79.93\n",
       "\n",
       "[4606 rows x 2 columns]"
      ]
     },
     "execution_count": 26,
     "metadata": {},
     "output_type": "execute_result"
    }
   ],
   "source": [
    "QB = filtered[[\"location\", \"distributed_per_hundred\"]]\n",
    "QB"
   ]
  },
  {
   "cell_type": "code",
   "execution_count": 27,
   "metadata": {
    "execution": {
     "iopub.execute_input": "2021-04-16T19:55:18.377178Z",
     "iopub.status.busy": "2021-04-16T19:55:18.376463Z",
     "iopub.status.idle": "2021-04-16T19:55:18.391131Z",
     "shell.execute_reply": "2021-04-16T19:55:18.390585Z"
    },
    "papermill": {
     "duration": 0.061492,
     "end_time": "2021-04-16T19:55:18.391310",
     "exception": false,
     "start_time": "2021-04-16T19:55:18.329818",
     "status": "completed"
    },
    "tags": []
   },
   "outputs": [
    {
     "data": {
      "text/html": [
       "<div>\n",
       "<style scoped>\n",
       "    .dataframe tbody tr th:only-of-type {\n",
       "        vertical-align: middle;\n",
       "    }\n",
       "\n",
       "    .dataframe tbody tr th {\n",
       "        vertical-align: top;\n",
       "    }\n",
       "\n",
       "    .dataframe thead th {\n",
       "        text-align: right;\n",
       "    }\n",
       "</style>\n",
       "<table border=\"1\" class=\"dataframe\">\n",
       "  <thead>\n",
       "    <tr style=\"text-align: right;\">\n",
       "      <th></th>\n",
       "      <th>distributed_per_hundred</th>\n",
       "    </tr>\n",
       "    <tr>\n",
       "      <th>location</th>\n",
       "      <th></th>\n",
       "    </tr>\n",
       "  </thead>\n",
       "  <tbody>\n",
       "    <tr>\n",
       "      <th>Alaska</th>\n",
       "      <td>99.69</td>\n",
       "    </tr>\n",
       "    <tr>\n",
       "      <th>Connecticut</th>\n",
       "      <td>91.08</td>\n",
       "    </tr>\n",
       "    <tr>\n",
       "      <th>Vermont</th>\n",
       "      <td>89.08</td>\n",
       "    </tr>\n",
       "    <tr>\n",
       "      <th>South Dakota</th>\n",
       "      <td>88.29</td>\n",
       "    </tr>\n",
       "    <tr>\n",
       "      <th>New Mexico</th>\n",
       "      <td>87.65</td>\n",
       "    </tr>\n",
       "    <tr>\n",
       "      <th>Hawaii</th>\n",
       "      <td>87.26</td>\n",
       "    </tr>\n",
       "    <tr>\n",
       "      <th>Oklahoma</th>\n",
       "      <td>84.56</td>\n",
       "    </tr>\n",
       "    <tr>\n",
       "      <th>Massachusetts</th>\n",
       "      <td>83.69</td>\n",
       "    </tr>\n",
       "    <tr>\n",
       "      <th>Maine</th>\n",
       "      <td>83.12</td>\n",
       "    </tr>\n",
       "    <tr>\n",
       "      <th>Rhode Island</th>\n",
       "      <td>82.02</td>\n",
       "    </tr>\n",
       "  </tbody>\n",
       "</table>\n",
       "</div>"
      ],
      "text/plain": [
       "               distributed_per_hundred\n",
       "location                              \n",
       "Alaska                           99.69\n",
       "Connecticut                      91.08\n",
       "Vermont                          89.08\n",
       "South Dakota                     88.29\n",
       "New Mexico                       87.65\n",
       "Hawaii                           87.26\n",
       "Oklahoma                         84.56\n",
       "Massachusetts                    83.69\n",
       "Maine                            83.12\n",
       "Rhode Island                     82.02"
      ]
     },
     "execution_count": 27,
     "metadata": {},
     "output_type": "execute_result"
    }
   ],
   "source": [
    "Q3 = QB.groupby(by=\"location\").max().sort_values(by=\"distributed_per_hundred\",ascending=False)\n",
    "Q3.head(10)"
   ]
  },
  {
   "cell_type": "markdown",
   "metadata": {
    "papermill": {
     "duration": 0.042107,
     "end_time": "2021-04-16T19:55:18.476028",
     "exception": false,
     "start_time": "2021-04-16T19:55:18.433921",
     "status": "completed"
    },
    "tags": []
   },
   "source": [
    "Answering the question: \"2. (B) a list of the top 10 states that distributed the most vaccines per capita -- for the past 7 days.\" wouldnt yield the list above.  \n",
    "\n",
    "I have missed out the significant part of \"past 7 days\". This list is still interesting and I will be able to compare it to the final answer when I have removed all dates older than 7 days old in the dataset."
   ]
  },
  {
   "cell_type": "code",
   "execution_count": 28,
   "metadata": {
    "execution": {
     "iopub.execute_input": "2021-04-16T19:55:18.566093Z",
     "iopub.status.busy": "2021-04-16T19:55:18.565431Z",
     "iopub.status.idle": "2021-04-16T19:55:18.570144Z",
     "shell.execute_reply": "2021-04-16T19:55:18.569645Z"
    },
    "papermill": {
     "duration": 0.052456,
     "end_time": "2021-04-16T19:55:18.570303",
     "exception": false,
     "start_time": "2021-04-16T19:55:18.517847",
     "status": "completed"
    },
    "tags": []
   },
   "outputs": [
    {
     "data": {
      "text/plain": [
       "6125    2021-04-08\n",
       "6126    2021-04-09\n",
       "6127    2021-04-10\n",
       "6128    2021-04-11\n",
       "6129    2021-04-12\n",
       "6130    2021-04-13\n",
       "6131    2021-04-14\n",
       "6132    2021-04-15\n",
       "Name: date, dtype: object"
      ]
     },
     "execution_count": 28,
     "metadata": {},
     "output_type": "execute_result"
    }
   ],
   "source": [
    "filtered.date.tail(8)"
   ]
  },
  {
   "cell_type": "code",
   "execution_count": 29,
   "metadata": {
    "execution": {
     "iopub.execute_input": "2021-04-16T19:55:18.662065Z",
     "iopub.status.busy": "2021-04-16T19:55:18.661180Z",
     "iopub.status.idle": "2021-04-16T19:55:18.665592Z",
     "shell.execute_reply": "2021-04-16T19:55:18.664934Z"
    },
    "papermill": {
     "duration": 0.053834,
     "end_time": "2021-04-16T19:55:18.665758",
     "exception": false,
     "start_time": "2021-04-16T19:55:18.611924",
     "status": "completed"
    },
    "tags": []
   },
   "outputs": [
    {
     "data": {
      "text/plain": [
       "(294, 14)"
      ]
     },
     "execution_count": 29,
     "metadata": {},
     "output_type": "execute_result"
    }
   ],
   "source": [
    "moo = filtered[(filtered['date'] > \"2021-04-09\") ]\n",
    "moo.shape"
   ]
  },
  {
   "cell_type": "code",
   "execution_count": 30,
   "metadata": {
    "execution": {
     "iopub.execute_input": "2021-04-16T19:55:18.766198Z",
     "iopub.status.busy": "2021-04-16T19:55:18.760735Z",
     "iopub.status.idle": "2021-04-16T19:55:18.769509Z",
     "shell.execute_reply": "2021-04-16T19:55:18.770050Z"
    },
    "papermill": {
     "duration": 0.06158,
     "end_time": "2021-04-16T19:55:18.770229",
     "exception": false,
     "start_time": "2021-04-16T19:55:18.708649",
     "status": "completed"
    },
    "tags": []
   },
   "outputs": [
    {
     "data": {
      "text/html": [
       "<div>\n",
       "<style scoped>\n",
       "    .dataframe tbody tr th:only-of-type {\n",
       "        vertical-align: middle;\n",
       "    }\n",
       "\n",
       "    .dataframe tbody tr th {\n",
       "        vertical-align: top;\n",
       "    }\n",
       "\n",
       "    .dataframe thead th {\n",
       "        text-align: right;\n",
       "    }\n",
       "</style>\n",
       "<table border=\"1\" class=\"dataframe\">\n",
       "  <thead>\n",
       "    <tr style=\"text-align: right;\">\n",
       "      <th></th>\n",
       "      <th>distributed_per_hundred</th>\n",
       "    </tr>\n",
       "    <tr>\n",
       "      <th>location</th>\n",
       "      <th></th>\n",
       "    </tr>\n",
       "  </thead>\n",
       "  <tbody>\n",
       "    <tr>\n",
       "      <th>Alaska</th>\n",
       "      <td>99.69</td>\n",
       "    </tr>\n",
       "    <tr>\n",
       "      <th>Connecticut</th>\n",
       "      <td>91.08</td>\n",
       "    </tr>\n",
       "    <tr>\n",
       "      <th>Vermont</th>\n",
       "      <td>89.08</td>\n",
       "    </tr>\n",
       "    <tr>\n",
       "      <th>South Dakota</th>\n",
       "      <td>88.29</td>\n",
       "    </tr>\n",
       "    <tr>\n",
       "      <th>New Mexico</th>\n",
       "      <td>87.65</td>\n",
       "    </tr>\n",
       "    <tr>\n",
       "      <th>Hawaii</th>\n",
       "      <td>87.26</td>\n",
       "    </tr>\n",
       "    <tr>\n",
       "      <th>Oklahoma</th>\n",
       "      <td>84.56</td>\n",
       "    </tr>\n",
       "    <tr>\n",
       "      <th>Massachusetts</th>\n",
       "      <td>83.69</td>\n",
       "    </tr>\n",
       "    <tr>\n",
       "      <th>Maine</th>\n",
       "      <td>83.12</td>\n",
       "    </tr>\n",
       "    <tr>\n",
       "      <th>Rhode Island</th>\n",
       "      <td>82.02</td>\n",
       "    </tr>\n",
       "  </tbody>\n",
       "</table>\n",
       "</div>"
      ],
      "text/plain": [
       "               distributed_per_hundred\n",
       "location                              \n",
       "Alaska                           99.69\n",
       "Connecticut                      91.08\n",
       "Vermont                          89.08\n",
       "South Dakota                     88.29\n",
       "New Mexico                       87.65\n",
       "Hawaii                           87.26\n",
       "Oklahoma                         84.56\n",
       "Massachusetts                    83.69\n",
       "Maine                            83.12\n",
       "Rhode Island                     82.02"
      ]
     },
     "execution_count": 30,
     "metadata": {},
     "output_type": "execute_result"
    }
   ],
   "source": [
    "Q4 = moo[[\"location\", \"distributed_per_hundred\"]]\n",
    "Q4 = Q4.groupby(by=\"location\").max().sort_values(by=\"distributed_per_hundred\",ascending=False)\n",
    "Q4.head(10)"
   ]
  },
  {
   "cell_type": "markdown",
   "metadata": {
    "papermill": {
     "duration": 0.042417,
     "end_time": "2021-04-16T19:55:18.857784",
     "exception": false,
     "start_time": "2021-04-16T19:55:18.815367",
     "status": "completed"
    },
    "tags": []
   },
   "source": [
    "Strangely enough they seem to be exactly the same. It didnt take me long to realise what I need to do in order to make it right.\n",
    "\n",
    "I need to create a seperate dataframe withe max values for before 7 days ago. I could then merge dataframes with Q4 and then perform an aggregate and subtract one from the other to find out who has distributed the most in the last 7 days.\n",
    "\n"
   ]
  },
  {
   "cell_type": "code",
   "execution_count": 31,
   "metadata": {
    "execution": {
     "iopub.execute_input": "2021-04-16T19:55:18.947106Z",
     "iopub.status.busy": "2021-04-16T19:55:18.946444Z",
     "iopub.status.idle": "2021-04-16T19:55:18.953570Z",
     "shell.execute_reply": "2021-04-16T19:55:18.954109Z"
    },
    "papermill": {
     "duration": 0.053651,
     "end_time": "2021-04-16T19:55:18.954304",
     "exception": false,
     "start_time": "2021-04-16T19:55:18.900653",
     "status": "completed"
    },
    "tags": []
   },
   "outputs": [
    {
     "data": {
      "text/plain": [
       "(4263, 14)"
      ]
     },
     "execution_count": 31,
     "metadata": {},
     "output_type": "execute_result"
    }
   ],
   "source": [
    "foo = filtered[(filtered['date'] < \"2021-04-09\") ]\n",
    "foo.shape"
   ]
  },
  {
   "cell_type": "code",
   "execution_count": 32,
   "metadata": {
    "execution": {
     "iopub.execute_input": "2021-04-16T19:55:19.045813Z",
     "iopub.status.busy": "2021-04-16T19:55:19.045132Z",
     "iopub.status.idle": "2021-04-16T19:55:19.051813Z",
     "shell.execute_reply": "2021-04-16T19:55:19.052377Z"
    },
    "papermill": {
     "duration": 0.053585,
     "end_time": "2021-04-16T19:55:19.052553",
     "exception": false,
     "start_time": "2021-04-16T19:55:18.998968",
     "status": "completed"
    },
    "tags": []
   },
   "outputs": [
    {
     "data": {
      "text/plain": [
       "0       2021-01-12\n",
       "1       2021-01-13\n",
       "2       2021-01-14\n",
       "3       2021-01-15\n",
       "4       2021-01-16\n",
       "           ...    \n",
       "6121    2021-04-04\n",
       "6122    2021-04-05\n",
       "6123    2021-04-06\n",
       "6124    2021-04-07\n",
       "6125    2021-04-08\n",
       "Name: date, Length: 4263, dtype: object"
      ]
     },
     "execution_count": 32,
     "metadata": {},
     "output_type": "execute_result"
    }
   ],
   "source": [
    "foo.date"
   ]
  },
  {
   "cell_type": "code",
   "execution_count": 33,
   "metadata": {
    "execution": {
     "iopub.execute_input": "2021-04-16T19:55:19.143976Z",
     "iopub.status.busy": "2021-04-16T19:55:19.143327Z",
     "iopub.status.idle": "2021-04-16T19:55:19.160250Z",
     "shell.execute_reply": "2021-04-16T19:55:19.159094Z"
    },
    "papermill": {
     "duration": 0.064601,
     "end_time": "2021-04-16T19:55:19.160519",
     "exception": false,
     "start_time": "2021-04-16T19:55:19.095918",
     "status": "completed"
    },
    "tags": []
   },
   "outputs": [
    {
     "data": {
      "text/html": [
       "<div>\n",
       "<style scoped>\n",
       "    .dataframe tbody tr th:only-of-type {\n",
       "        vertical-align: middle;\n",
       "    }\n",
       "\n",
       "    .dataframe tbody tr th {\n",
       "        vertical-align: top;\n",
       "    }\n",
       "\n",
       "    .dataframe thead th {\n",
       "        text-align: right;\n",
       "    }\n",
       "</style>\n",
       "<table border=\"1\" class=\"dataframe\">\n",
       "  <thead>\n",
       "    <tr style=\"text-align: right;\">\n",
       "      <th></th>\n",
       "      <th>distributed_per_hundred</th>\n",
       "    </tr>\n",
       "    <tr>\n",
       "      <th>location</th>\n",
       "      <th></th>\n",
       "    </tr>\n",
       "  </thead>\n",
       "  <tbody>\n",
       "    <tr>\n",
       "      <th>Alaska</th>\n",
       "      <td>94.73</td>\n",
       "    </tr>\n",
       "    <tr>\n",
       "      <th>South Dakota</th>\n",
       "      <td>81.58</td>\n",
       "    </tr>\n",
       "    <tr>\n",
       "      <th>Connecticut</th>\n",
       "      <td>80.60</td>\n",
       "    </tr>\n",
       "    <tr>\n",
       "      <th>Hawaii</th>\n",
       "      <td>79.29</td>\n",
       "    </tr>\n",
       "    <tr>\n",
       "      <th>Vermont</th>\n",
       "      <td>79.14</td>\n",
       "    </tr>\n",
       "    <tr>\n",
       "      <th>New Mexico</th>\n",
       "      <td>79.09</td>\n",
       "    </tr>\n",
       "    <tr>\n",
       "      <th>Oklahoma</th>\n",
       "      <td>77.47</td>\n",
       "    </tr>\n",
       "    <tr>\n",
       "      <th>Wyoming</th>\n",
       "      <td>75.34</td>\n",
       "    </tr>\n",
       "    <tr>\n",
       "      <th>Massachusetts</th>\n",
       "      <td>74.47</td>\n",
       "    </tr>\n",
       "    <tr>\n",
       "      <th>Maine</th>\n",
       "      <td>74.29</td>\n",
       "    </tr>\n",
       "  </tbody>\n",
       "</table>\n",
       "</div>"
      ],
      "text/plain": [
       "               distributed_per_hundred\n",
       "location                              \n",
       "Alaska                           94.73\n",
       "South Dakota                     81.58\n",
       "Connecticut                      80.60\n",
       "Hawaii                           79.29\n",
       "Vermont                          79.14\n",
       "New Mexico                       79.09\n",
       "Oklahoma                         77.47\n",
       "Wyoming                          75.34\n",
       "Massachusetts                    74.47\n",
       "Maine                            74.29"
      ]
     },
     "execution_count": 33,
     "metadata": {},
     "output_type": "execute_result"
    }
   ],
   "source": [
    "Q5 = foo[[\"location\", \"distributed_per_hundred\"]]\n",
    "Q5 = Q5.groupby(by=\"location\").max().sort_values(by=\"distributed_per_hundred\",ascending=False)\n",
    "Q5.head(10)"
   ]
  },
  {
   "cell_type": "code",
   "execution_count": 34,
   "metadata": {
    "execution": {
     "iopub.execute_input": "2021-04-16T19:55:19.292161Z",
     "iopub.status.busy": "2021-04-16T19:55:19.291066Z",
     "iopub.status.idle": "2021-04-16T19:55:19.296165Z",
     "shell.execute_reply": "2021-04-16T19:55:19.295478Z"
    },
    "papermill": {
     "duration": 0.073165,
     "end_time": "2021-04-16T19:55:19.296351",
     "exception": false,
     "start_time": "2021-04-16T19:55:19.223186",
     "status": "completed"
    },
    "tags": []
   },
   "outputs": [
    {
     "data": {
      "text/html": [
       "<div>\n",
       "<style scoped>\n",
       "    .dataframe tbody tr th:only-of-type {\n",
       "        vertical-align: middle;\n",
       "    }\n",
       "\n",
       "    .dataframe tbody tr th {\n",
       "        vertical-align: top;\n",
       "    }\n",
       "\n",
       "    .dataframe thead th {\n",
       "        text-align: right;\n",
       "    }\n",
       "</style>\n",
       "<table border=\"1\" class=\"dataframe\">\n",
       "  <thead>\n",
       "    <tr style=\"text-align: right;\">\n",
       "      <th></th>\n",
       "      <th>distributed_per_hundred</th>\n",
       "    </tr>\n",
       "    <tr>\n",
       "      <th>location</th>\n",
       "      <th></th>\n",
       "    </tr>\n",
       "  </thead>\n",
       "  <tbody>\n",
       "    <tr>\n",
       "      <th>Alabama</th>\n",
       "      <td>7.06</td>\n",
       "    </tr>\n",
       "    <tr>\n",
       "      <th>Alaska</th>\n",
       "      <td>4.96</td>\n",
       "    </tr>\n",
       "    <tr>\n",
       "      <th>Arizona</th>\n",
       "      <td>7.13</td>\n",
       "    </tr>\n",
       "    <tr>\n",
       "      <th>Arkansas</th>\n",
       "      <td>7.16</td>\n",
       "    </tr>\n",
       "    <tr>\n",
       "      <th>California</th>\n",
       "      <td>9.03</td>\n",
       "    </tr>\n",
       "  </tbody>\n",
       "</table>\n",
       "</div>"
      ],
      "text/plain": [
       "            distributed_per_hundred\n",
       "location                           \n",
       "Alabama                        7.06\n",
       "Alaska                         4.96\n",
       "Arizona                        7.13\n",
       "Arkansas                       7.16\n",
       "California                     9.03"
      ]
     },
     "execution_count": 34,
     "metadata": {},
     "output_type": "execute_result"
    }
   ],
   "source": [
    "bar = Q4 - Q5\n",
    "bar.head()"
   ]
  },
  {
   "cell_type": "code",
   "execution_count": 35,
   "metadata": {
    "execution": {
     "iopub.execute_input": "2021-04-16T19:55:19.391209Z",
     "iopub.status.busy": "2021-04-16T19:55:19.390141Z",
     "iopub.status.idle": "2021-04-16T19:55:19.402511Z",
     "shell.execute_reply": "2021-04-16T19:55:19.401868Z"
    },
    "papermill": {
     "duration": 0.060809,
     "end_time": "2021-04-16T19:55:19.402684",
     "exception": false,
     "start_time": "2021-04-16T19:55:19.341875",
     "status": "completed"
    },
    "tags": []
   },
   "outputs": [
    {
     "data": {
      "text/html": [
       "<div>\n",
       "<style scoped>\n",
       "    .dataframe tbody tr th:only-of-type {\n",
       "        vertical-align: middle;\n",
       "    }\n",
       "\n",
       "    .dataframe tbody tr th {\n",
       "        vertical-align: top;\n",
       "    }\n",
       "\n",
       "    .dataframe thead th {\n",
       "        text-align: right;\n",
       "    }\n",
       "</style>\n",
       "<table border=\"1\" class=\"dataframe\">\n",
       "  <thead>\n",
       "    <tr style=\"text-align: right;\">\n",
       "      <th></th>\n",
       "      <th>distributed_per_hundred</th>\n",
       "    </tr>\n",
       "    <tr>\n",
       "      <th>location</th>\n",
       "      <th></th>\n",
       "    </tr>\n",
       "  </thead>\n",
       "  <tbody>\n",
       "    <tr>\n",
       "      <th>Connecticut</th>\n",
       "      <td>10.48</td>\n",
       "    </tr>\n",
       "    <tr>\n",
       "      <th>Vermont</th>\n",
       "      <td>9.94</td>\n",
       "    </tr>\n",
       "    <tr>\n",
       "      <th>Rhode Island</th>\n",
       "      <td>9.48</td>\n",
       "    </tr>\n",
       "    <tr>\n",
       "      <th>Massachusetts</th>\n",
       "      <td>9.22</td>\n",
       "    </tr>\n",
       "    <tr>\n",
       "      <th>California</th>\n",
       "      <td>9.03</td>\n",
       "    </tr>\n",
       "    <tr>\n",
       "      <th>Maryland</th>\n",
       "      <td>9.03</td>\n",
       "    </tr>\n",
       "    <tr>\n",
       "      <th>Maine</th>\n",
       "      <td>8.83</td>\n",
       "    </tr>\n",
       "    <tr>\n",
       "      <th>Delaware</th>\n",
       "      <td>8.69</td>\n",
       "    </tr>\n",
       "    <tr>\n",
       "      <th>New Hampshire</th>\n",
       "      <td>8.67</td>\n",
       "    </tr>\n",
       "    <tr>\n",
       "      <th>New Mexico</th>\n",
       "      <td>8.56</td>\n",
       "    </tr>\n",
       "  </tbody>\n",
       "</table>\n",
       "</div>"
      ],
      "text/plain": [
       "               distributed_per_hundred\n",
       "location                              \n",
       "Connecticut                      10.48\n",
       "Vermont                           9.94\n",
       "Rhode Island                      9.48\n",
       "Massachusetts                     9.22\n",
       "California                        9.03\n",
       "Maryland                          9.03\n",
       "Maine                             8.83\n",
       "Delaware                          8.69\n",
       "New Hampshire                     8.67\n",
       "New Mexico                        8.56"
      ]
     },
     "execution_count": 35,
     "metadata": {},
     "output_type": "execute_result"
    }
   ],
   "source": [
    "bar.sort_values(by=\"distributed_per_hundred\", ascending=False).head(10)"
   ]
  },
  {
   "cell_type": "markdown",
   "metadata": {
    "papermill": {
     "duration": 0.047965,
     "end_time": "2021-04-16T19:55:19.498876",
     "exception": false,
     "start_time": "2021-04-16T19:55:19.450911",
     "status": "completed"
    },
    "tags": []
   },
   "source": [
    "So the final list in in, I'll make a table to compare the two.\n",
    "\n",
    "| Wrong List      | Right List |\n",
    "| ----------- | ----------- |\n",
    "| Alaska     | Conneticut      |\n",
    "| Conneticut   | Vermont        |\n",
    "| Vermont        | Rhode Island   |\n",
    "| South Dakota       | Massachussetts |\n",
    "| New Mexico     | California  |\n",
    "| Hawaii       | Maryland    |\n",
    "| Oklahoma     | Maine      |\n",
    "| Massachussetts  | Delaware    |\n",
    "| Maine     | New Hampshire |\n",
    "| Rhode Island  | New Mexico  |"
   ]
  },
  {
   "cell_type": "markdown",
   "metadata": {
    "papermill": {
     "duration": 0.045161,
     "end_time": "2021-04-16T19:55:19.589470",
     "exception": false,
     "start_time": "2021-04-16T19:55:19.544309",
     "status": "completed"
    },
    "tags": []
   },
   "source": [
    "<a id = \"6\"></a><br>\n",
    "# Q2 Answer\n",
    "So to answer the second question: \"2. (B) a list of the top 10 states that distributed the most vaccines per capita -- for the past 7 days.\" The top 10 states are as follows:\n",
    "1. Conneticut\n",
    "2. Vermont\n",
    "3. Rhode Island\n",
    "4. Massachussetts\n",
    "5. California\n",
    "6. Maryland\n",
    "7. Maine\n",
    "8. Delaware\n",
    "9. New Hampshire\n",
    "10. New Mexico\n",
    "\n",
    "\n"
   ]
  },
  {
   "cell_type": "markdown",
   "metadata": {
    "papermill": {
     "duration": 0.045183,
     "end_time": "2021-04-16T19:55:19.680237",
     "exception": false,
     "start_time": "2021-04-16T19:55:19.635054",
     "status": "completed"
    },
    "tags": []
   },
   "source": [
    "Thanks for reading through my Task submission. I've leaerned quite a few things about notebooks with this particular exercise. If anyone notices anything wrong or untowards, please make a comment and I'll do my best to reply and fix my mistake."
   ]
  },
  {
   "cell_type": "code",
   "execution_count": null,
   "metadata": {
    "papermill": {
     "duration": 0.045067,
     "end_time": "2021-04-16T19:55:19.770774",
     "exception": false,
     "start_time": "2021-04-16T19:55:19.725707",
     "status": "completed"
    },
    "tags": []
   },
   "outputs": [],
   "source": []
  }
 ],
 "metadata": {
  "kernelspec": {
   "display_name": "Python 3",
   "language": "python",
   "name": "python3"
  },
  "language_info": {
   "codemirror_mode": {
    "name": "ipython",
    "version": 3
   },
   "file_extension": ".py",
   "mimetype": "text/x-python",
   "name": "python",
   "nbconvert_exporter": "python",
   "pygments_lexer": "ipython3",
   "version": "3.7.9"
  },
  "papermill": {
   "default_parameters": {},
   "duration": 11.845074,
   "end_time": "2021-04-16T19:55:20.426790",
   "environment_variables": {},
   "exception": null,
   "input_path": "__notebook__.ipynb",
   "output_path": "__notebook__.ipynb",
   "parameters": {},
   "start_time": "2021-04-16T19:55:08.581716",
   "version": "2.2.2"
  }
 },
 "nbformat": 4,
 "nbformat_minor": 4
}
